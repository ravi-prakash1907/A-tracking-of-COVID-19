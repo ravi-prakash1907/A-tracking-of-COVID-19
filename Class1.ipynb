{
  "nbformat": 4,
  "nbformat_minor": 0,
  "metadata": {
    "colab": {
      "provenance": [],
      "authorship_tag": "ABX9TyMMGYhJunaOFCZmUNxNZhXw",
      "include_colab_link": true
    },
    "kernelspec": {
      "name": "python3",
      "display_name": "Python 3"
    },
    "language_info": {
      "name": "python"
    }
  },
  "cells": [
    {
      "cell_type": "markdown",
      "metadata": {
        "id": "view-in-github",
        "colab_type": "text"
      },
      "source": [
        "<a href=\"https://colab.research.google.com/github/ravi-prakash1907/A-tracking-of-COVID-19/blob/master/Class1.ipynb\" target=\"_parent\"><img src=\"https://colab.research.google.com/assets/colab-badge.svg\" alt=\"Open In Colab\"/></a>"
      ]
    },
    {
      "cell_type": "markdown",
      "source": [
        "# **Lab Practicals:**  \n",
        "\n",
        "`01/03/2023`"
      ],
      "metadata": {
        "id": "G7TA5OE2VdZk"
      }
    },
    {
      "cell_type": "markdown",
      "source": [
        "## **Solutions:**"
      ],
      "metadata": {
        "id": "AMAlXu1RVilK"
      }
    },
    {
      "cell_type": "markdown",
      "source": [
        "### **Supporting Functions:**"
      ],
      "metadata": {
        "id": "wbalekngU047"
      }
    },
    {
      "cell_type": "code",
      "source": [
        "## any support fun"
      ],
      "metadata": {
        "id": "sdG2eCkFU60y"
      },
      "execution_count": null,
      "outputs": []
    },
    {
      "cell_type": "markdown",
      "source": [
        "### 1. Perform bitwise operations on following your **RollNum** O/P **Reverse of RollNumber**: "
      ],
      "metadata": {
        "id": "XWXY2OV9TtBC"
      }
    },
    {
      "cell_type": "markdown",
      "source": [
        " > **RollNum** `AND` **Reverse_of_RollNumber**"
      ],
      "metadata": {
        "id": "c47Xu4olT2kh"
      }
    },
    {
      "cell_type": "code",
      "source": [],
      "metadata": {
        "colab": {
          "base_uri": "https://localhost:8080/"
        },
        "id": "DgmiLvp_Wv56",
        "outputId": "496b7d77-d929-450c-fa05-5d59b55f4a9d"
      },
      "execution_count": 10,
      "outputs": [
        {
          "output_type": "execute_result",
          "data": {
            "text/plain": [
              "2"
            ]
          },
          "metadata": {},
          "execution_count": 10
        }
      ]
    },
    {
      "cell_type": "markdown",
      "source": [
        " > **RollNum** `OR` **Reverse_of_RollNumber**"
      ],
      "metadata": {
        "id": "B7wIKAklUDvK"
      }
    },
    {
      "cell_type": "code",
      "execution_count": null,
      "metadata": {
        "id": "i5WlyTq6TpFX"
      },
      "outputs": [],
      "source": []
    },
    {
      "cell_type": "markdown",
      "source": [
        " > **RollNum** `XOR` **Reverse_of_RollNumber**"
      ],
      "metadata": {
        "id": "P0RJXqyjUGjS"
      }
    },
    {
      "cell_type": "code",
      "source": [],
      "metadata": {
        "id": "xIiyc8KMUIdC"
      },
      "execution_count": null,
      "outputs": []
    },
    {
      "cell_type": "markdown",
      "source": [
        "<BR />  \n",
        "\n",
        "---  \n",
        "\n",
        "<BR />"
      ],
      "metadata": {
        "id": "vGHcjZ_jUJGi"
      }
    },
    {
      "cell_type": "markdown",
      "source": [
        "### 2. Implement following **Substitution Cipher**:  "
      ],
      "metadata": {
        "id": "JIrgRHNWUTQi"
      }
    },
    {
      "cell_type": "markdown",
      "source": [
        "> **`XOR`** cipher with Given key (key is your roll number)  "
      ],
      "metadata": {
        "id": "i9s3-8_ZUe0a"
      }
    },
    {
      "cell_type": "code",
      "source": [
        "def encXOR(msg, key):\n",
        "  # if len(key) != len(msg), get eq len key\n",
        "  cipherText = msg ^ key\n",
        "  return cipherText"
      ],
      "metadata": {
        "id": "hbc39uMZTsrK"
      },
      "execution_count": 7,
      "outputs": []
    },
    {
      "cell_type": "code",
      "source": [
        "def decXOR(cph, key):\n",
        "  # if len(key) != len(cph), get eq len key\n",
        "  planeText = cph ^ key\n",
        "  return planeText"
      ],
      "metadata": {
        "id": "xGBc1sb3WjdR"
      },
      "execution_count": 8,
      "outputs": []
    },
    {
      "cell_type": "markdown",
      "source": [
        "> **Rotate** a string by `N` such that **N** = Single didgit sum of your first name (in ASCII)"
      ],
      "metadata": {
        "id": "XDM36RUrUtS6"
      }
    },
    {
      "cell_type": "code",
      "source": [
        "def getOneNum(fName):\n",
        "  pass\n",
        "  return"
      ],
      "metadata": {
        "id": "CGqmzrHvbMj0"
      },
      "execution_count": null,
      "outputs": []
    },
    {
      "cell_type": "code",
      "source": [
        "def rotChar(thisChar, rotBy):\n",
        "  chVal = ord(thisChar)\n",
        "  subChar = chr(chVal+rotBy)\n",
        "  return subChar"
      ],
      "metadata": {
        "id": "rwF38wEeUwkp"
      },
      "execution_count": 19,
      "outputs": []
    },
    {
      "cell_type": "markdown",
      "source": [
        "<br />  \n",
        "\n",
        "---\n",
        "\n",
        "<br />  "
      ],
      "metadata": {
        "id": "DC5TQ8T4VAAq"
      }
    },
    {
      "cell_type": "markdown",
      "source": [
        "## **Implementation**"
      ],
      "metadata": {
        "id": "ofPSpxJYVEJS"
      }
    },
    {
      "cell_type": "code",
      "source": [
        "## XOR Cipher\n",
        "org = 10\n",
        "print(\"Plane Text: \",org)\n",
        "\n",
        "ct = encXOR(org,6)\n",
        "print(\"Cipher Text: \",ct)\n",
        "\n",
        "dc = decXOR(ct,6)\n",
        "print(\"Deciphered (original) Text: \",dc)"
      ],
      "metadata": {
        "colab": {
          "base_uri": "https://localhost:8080/"
        },
        "id": "XbWQrLPIVDja",
        "outputId": "f8ec9262-2a66-4e7a-9c0d-2450811e556f"
      },
      "execution_count": 13,
      "outputs": [
        {
          "output_type": "stream",
          "name": "stdout",
          "text": [
            "Plane Text:  10\n",
            "Cipher Text:  12\n",
            "Deciphered (original) Text:  10\n"
          ]
        }
      ]
    },
    {
      "cell_type": "code",
      "source": [
        "## Rotate char\n",
        "rotChar('a',1)"
      ],
      "metadata": {
        "colab": {
          "base_uri": "https://localhost:8080/",
          "height": 35
        },
        "id": "dBcvF-PUYvIC",
        "outputId": "ab49e706-a0da-4b10-fd06-c95d32bdfe78"
      },
      "execution_count": 20,
      "outputs": [
        {
          "output_type": "execute_result",
          "data": {
            "text/plain": [
              "'b'"
            ],
            "application/vnd.google.colaboratory.intrinsic+json": {
              "type": "string"
            }
          },
          "metadata": {},
          "execution_count": 20
        }
      ]
    }
  ]
}