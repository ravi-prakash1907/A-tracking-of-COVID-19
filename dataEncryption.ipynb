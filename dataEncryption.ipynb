{
  "nbformat": 4,
  "nbformat_minor": 0,
  "metadata": {
    "colab": {
      "name": "dataEncryption.ipynb",
      "provenance": [],
      "authorship_tag": "ABX9TyPihyknSDVZmrhqZFXS70dX",
      "include_colab_link": true
    },
    "kernelspec": {
      "name": "python3",
      "display_name": "Python 3"
    },
    "language_info": {
      "name": "python"
    }
  },
  "cells": [
    {
      "cell_type": "markdown",
      "metadata": {
        "id": "view-in-github",
        "colab_type": "text"
      },
      "source": [
        "<a href=\"https://colab.research.google.com/github/ravi-prakash1907/A-tracking-of-COVID-19/blob/master/dataEncryption.ipynb\" target=\"_parent\"><img src=\"https://colab.research.google.com/assets/colab-badge.svg\" alt=\"Open In Colab\"/></a>"
      ]
    },
    {
      "cell_type": "markdown",
      "source": [
        "# Data Encryption and Decryption  \n",
        "\n",
        "_proposing newly developed data encryption (symmetric) method)  \n",
        "\n",
        "<font color=\"red\">  **to be fixed for taking the key from user**  </font>"
      ],
      "metadata": {
        "id": "CCi1YUG6x5T3"
      }
    },
    {
      "cell_type": "code",
      "execution_count": 5,
      "metadata": {
        "id": "oD63CjLSr0q4"
      },
      "outputs": [],
      "source": [
        "## libraries\n",
        "import random as r"
      ]
    },
    {
      "cell_type": "code",
      "source": [
        "## constants\n",
        "\n",
        "# len = 31\n",
        "ALPHA_SET_1 = \"abcdefghijklmnopqrstuvwxyz#*&@$\"\n",
        "ALPHA_SET_2 = \"%wqertyuiop*asdf-ghjkl4zxcvb#nm\" # %*#-4\n",
        "\n",
        "# len = 13\n",
        "NUMERIC_SET_1 = \"0123456789.%-\"\n",
        "NUMERIC_SET_2 = \"50@239^$7&681\"\n",
        "\n",
        "# total decimal dig.\n",
        "NUMBER_COUNT = 10\n",
        "\n",
        "################\n",
        "\n",
        "BEG_POS = 0\n",
        "END_POS = -1\n",
        "\n",
        "RANGE_BEG_VAL = 1"
      ],
      "metadata": {
        "id": "KlYdb7JH0B38"
      },
      "execution_count": 6,
      "outputs": []
    },
    {
      "cell_type": "markdown",
      "source": [
        "### Encryptor & Decryptor"
      ],
      "metadata": {
        "id": "xIPE14nfyr2S"
      }
    },
    {
      "cell_type": "code",
      "source": [
        "class encrypter:\n",
        "  def __init__(self, key=False):\n",
        "    self.alpha1 = ALPHA_SET_1\n",
        "    self.alpha2 = ALPHA_SET_2\n",
        "    self.num1 = NUMERIC_SET_1\n",
        "    self.num2 = NUMERIC_SET_2\n",
        "    self.key = self.__keyGenerator(key)\n",
        "\n",
        "  def __keyGenerator(self, choosen, minimumRounds=1):\n",
        "    if not choosen: # or choosen = 0\n",
        "      choosen = int(not bool(choosen))\n",
        "    key = minimumRounds + r.randint(RANGE_BEG_VAL, choosen)\n",
        "    return key\n",
        "\n",
        "  def __joiner(self, Str, letter_sp):\n",
        "    Str += str(letter_sp)\n",
        "    return Str\n",
        "\n",
        "  def __rev(self, x):\n",
        "    return x[::END_POS]\n",
        "\n",
        "  def __encodeAlter(self):\n",
        "    self.alpha1 = self.__rev(self.alpha1)\n",
        "\n",
        "    self.t = self.alpha1[BEG_POS]\n",
        "    self.alpha1 = self.alpha1[BEG_POS+1:]\n",
        "    self.alpha1 += self.t\n",
        "\n",
        "    self.alpha1 = self.__rev(self.alpha1)\n",
        "\n",
        "\n",
        "  def encode(self, inp):\n",
        "    inp = inp.lower()\n",
        "    letter_sp = '0'\n",
        "\n",
        "    key = str(self.key)\n",
        "    letter_sp = key[BEG_POS]\n",
        "    for i in range(RANGE_BEG_VAL, self.key+1):\n",
        "      match = self.num1[i]\n",
        "      if letter_sp == match:\n",
        "        letter_sp = self.num2[i]\n",
        "        break\n",
        "\n",
        "    for i in range(self.key):\n",
        "      self.__encodeAlter()\n",
        "\n",
        "    temp = \"\"\n",
        "    for Str in range(len(inp)):\n",
        "      letter = inp[Str]\n",
        "      if letter.isalpha() or letter=='#' or letter=='*' or letter=='&' or letter=='@' or letter=='$':\n",
        "        for i in range(len(ALPHA_SET_1)):\n",
        "          match = self.alpha1[i]\n",
        "          if letter == match:\n",
        "            temp += str(self.alpha2[i])\n",
        "            self.__encodeAlter()\n",
        "            break\n",
        "\n",
        "      elif letter.isnumeric() or letter=='.' or letter=='%' or letter=='-': # Encrypting Digits\n",
        "        for i in range(len(NUMERIC_SET_1)):\n",
        "          match = self.num1[i]\n",
        "          if letter == match:\n",
        "            temp += str(self.num2[i])\n",
        "            self.__encodeAlter()\n",
        "            break\n",
        "\n",
        "      elif letter == '\\n':\n",
        "        temp += str('\\n')\n",
        "\n",
        "      else:\n",
        "        temp += str(letter)\n",
        "\n",
        "\n",
        "    return self.__joiner(temp, letter_sp)\n"
      ],
      "metadata": {
        "id": "QuSYjW4ZyrZt"
      },
      "execution_count": 18,
      "outputs": []
    },
    {
      "cell_type": "code",
      "source": [
        "class decrypter:\n",
        "  def __init__(self, key=False):\n",
        "    self.alpha1 = ALPHA_SET_1\n",
        "    self.alpha2 = ALPHA_SET_2\n",
        "    self.num1 = NUMERIC_SET_1\n",
        "    self.num2 = NUMERIC_SET_2\n",
        "    self.key = None\n",
        "  \n",
        "  def __keyRetreiver(self,msg, num1, num2):\n",
        "    key = END_POS\n",
        "    check = msg[END_POS]\n",
        "    \n",
        "    for i in range(NUMBER_COUNT):\n",
        "      if check == num2[i]:\n",
        "        check = num1[i]\n",
        "        key = i\n",
        "        break\n",
        "    \n",
        "    return key\n",
        "\n",
        "  def __decodeAlter(self):\n",
        "    self.t = self.alpha2[BEG_POS]\n",
        "    self.alpha2 = self.alpha2[BEG_POS+1:]\n",
        "    self.alpha2 += self.t\n",
        "\n",
        "  def decode(self, inp):\n",
        "    inp = inp.lower()\n",
        "\n",
        "    initial = self.__keyRetreiver(inp, self.num1, self.num2)\n",
        "\n",
        "    for i in range(initial):\n",
        "      self.__decodeAlter()\n",
        "\n",
        "    temp = \"\"\n",
        "    for Str in range(len(inp)):\n",
        "      real = inp[Str]\n",
        "      if real.isalpha() or real=='%' or real=='*' or real=='#' or real=='-' or real=='4':\n",
        "        for i in range(31):\n",
        "          match = self.alpha2[i]\n",
        "          if real == match:\n",
        "            temp += str(self.alpha1[i])\n",
        "            self.__decodeAlter()\n",
        "            break\n",
        "\n",
        "      elif (real.isnumeric() and real!='4') or real=='@' or real=='$' or real=='&' or real=='^':\n",
        "        for i in range(13):\n",
        "          match = self.num2[i]\n",
        "          if real == match:\n",
        "            temp += str(self.num1[i])\n",
        "            self.__decodeAlter()\n",
        "            break\n",
        "\n",
        "      elif real == '\\n':\n",
        "        temp += str('\\n')\n",
        "\n",
        "      else:\n",
        "        temp += str(real)\n",
        "\n",
        "    temp = temp[BEG_POS:END_POS]\n",
        "    return temp"
      ],
      "metadata": {
        "id": "Nc_QNpHQ2Chk"
      },
      "execution_count": 23,
      "outputs": []
    },
    {
      "cell_type": "markdown",
      "source": [
        "---"
      ],
      "metadata": {
        "id": "s-jyiW3_2COa"
      }
    },
    {
      "cell_type": "markdown",
      "source": [
        "### Usage"
      ],
      "metadata": {
        "id": "pITYd1_T6OHe"
      }
    },
    {
      "cell_type": "code",
      "source": [
        "## usage : for encryption\n",
        "thisEncrypter = encrypter()\n",
        "plainText = input(\"Enter your message: \")\n",
        "thisEncrypter.encode(plainText)"
      ],
      "metadata": {
        "colab": {
          "base_uri": "https://localhost:8080/",
          "height": 53
        },
        "id": "Gp_FkKzh14Zw",
        "outputId": "257ef93d-31f3-4e76-c6d6-586f67b6f8e6"
      },
      "execution_count": 20,
      "outputs": [
        {
          "name": "stdout",
          "output_type": "stream",
          "text": [
            "Enter your message: ravi\n"
          ]
        },
        {
          "output_type": "execute_result",
          "data": {
            "text/plain": [
              "'jecs@'"
            ],
            "application/vnd.google.colaboratory.intrinsic+json": {
              "type": "string"
            }
          },
          "metadata": {},
          "execution_count": 20
        }
      ]
    },
    {
      "cell_type": "code",
      "source": [
        "## usage : for encryption\n",
        "thisDecoder = decrypter()\n",
        "cipherText = input(\"Enter the secret message: \")\n",
        "thisDecoder.decode(cipherText)"
      ],
      "metadata": {
        "colab": {
          "base_uri": "https://localhost:8080/",
          "height": 53
        },
        "id": "0MXlvw1T5uGo",
        "outputId": "623d4f8c-df59-44dc-beb8-b5a89ac4f1c3"
      },
      "execution_count": 24,
      "outputs": [
        {
          "name": "stdout",
          "output_type": "stream",
          "text": [
            "Enter the secret message: jecs@\n"
          ]
        },
        {
          "output_type": "execute_result",
          "data": {
            "text/plain": [
              "'ravi'"
            ],
            "application/vnd.google.colaboratory.intrinsic+json": {
              "type": "string"
            }
          },
          "metadata": {},
          "execution_count": 24
        }
      ]
    }
  ]
}