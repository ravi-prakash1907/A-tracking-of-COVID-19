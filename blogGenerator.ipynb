{
  "nbformat": 4,
  "nbformat_minor": 0,
  "metadata": {
    "colab": {
      "provenance": [],
      "collapsed_sections": [],
      "authorship_tag": "ABX9TyO37i7ZBqlVoyRZal8YiXmm",
      "include_colab_link": true
    },
    "kernelspec": {
      "name": "python3",
      "display_name": "Python 3"
    },
    "language_info": {
      "name": "python"
    }
  },
  "cells": [
    {
      "cell_type": "markdown",
      "metadata": {
        "id": "view-in-github",
        "colab_type": "text"
      },
      "source": [
        "<a href=\"https://colab.research.google.com/github/ravi-prakash1907/A-tracking-of-COVID-19/blob/master/blogGenerator.ipynb\" target=\"_parent\"><img src=\"https://colab.research.google.com/assets/colab-badge.svg\" alt=\"Open In Colab\"/></a>"
      ]
    },
    {
      "cell_type": "markdown",
      "source": [
        "# **Problem:** Generate the Blog's Directory from Raw Data  \n",
        "\n",
        "_(it can either be provided as user input or through some datafile)_  \n",
        "\n",
        "**Detail:**  \n",
        "We aim to create a `python` script to generate a [`markdown`](https://enterprise.github.com/downloads/en/markdown-cheatsheet.pdf) file for the new blogs based on the user input. This `markdown` (`index.md`) is automatically rendered into a web page from the backend code. The program is meant to ask questions based on the required fields for the blog and populate the template file.  \n",
        "\n",
        "For every blog, there is a directory that is named after the _'title of blog'_, and holds the following file(s):  \n",
        "1. **`index.md`**: the original blogs' content  \n",
        "2. **`featured.jpg`**: an _(optional)_ image for being displayed at the top of the blog  \n",
        "3. Hence, the structure becomes:  \n",
        "> 📁 `title_of_blog`  \n",
        "> │  \n",
        "> ├── 📄 `index.md`       \n",
        "> │  \n",
        "> └── 🖼️ `featured.jpg`  \n",
        "\n",
        "The **primary goal** is only to save the updated template (markdown) file as `index.md` into it's parent directory.  \n",
        "\n",
        "---  \n",
        "\n"
      ],
      "metadata": {
        "id": "TZdpzc5ZB_vw"
      }
    },
    {
      "cell_type": "markdown",
      "source": [
        "**A sample file for blog is given below:**  \n",
        "\n",
        "```\n",
        "---\n",
        "title: \"<blog's_topic>\"\n",
        "subtitle: \"<blog's_subtitle>\"\n",
        "summary: \"<blog's_summary>\"\n",
        "authors: <authors'_list> # [auth1, auth2]\n",
        "tags: <tags'_list> # [tag1, tag2]\n",
        "categories: <categories'_list> # [cat1, cat2]\n",
        "date: \"<blogging_date_YYYY-MM-DD>\" # appended with 'T00:00:00Z' eg. \"2022-07-21T00:00:00Z\"\n",
        "featured: true # can play with this\n",
        "draft: false # can play with this\n",
        "\n",
        "# Featured image\n",
        "# # To use, add an image named `featured.jpg/png` to your page's folder.\n",
        "# Placement options: 1 = Full column width, 2 = Out-set, 3 = Screen-width\n",
        "# Focal point options: Smart, Center, TopLeft, Top, TopRight, Left, Right, BottomLeft, Bottom, BottomRight\n",
        "image:\n",
        "  placement: 1\n",
        "  caption: ''\n",
        "  focal_point: \"\"\n",
        "  preview_only: false\n",
        "\n",
        "# Custom links (optional).\n",
        "# Uncomment and edit lines below to show custom links.\n",
        "links:\n",
        "- name: jijeevisha_org\n",
        "  url: <twitter_link_goes_here> # else keep the default\n",
        "  icon_pack: fab\n",
        "  icon: twitter\n",
        "\n",
        "- name: jijeevisha_org\n",
        "  url: https://www.instagram.com/jijeevisha_org/\n",
        "  icon_pack: fab\n",
        "  icon: instagram\n",
        "\n",
        "- name: Old Blogs\n",
        "  url: https://jijeevishaorg.wordpress.com/blog/\n",
        "  icon_pack: fab\n",
        "  icon: wordpress\n",
        "\n",
        "---\n",
        "\n",
        "<body_of_blog_or_post>  \n",
        "\n",
        "_<- footnote_(if_any)>_\n",
        "\n",
        "---  \n",
        "```  \n",
        "\n",
        "_\\* The above sample file can be accessed from [this link](https://github.com/jijeevisha-org/tech-front-info/blob/main/template/blogs.md). Download it from [https://raw.githubusercontent.com/jijeevisha-org/tech-front-info/main/template/blogs.md](https://raw.githubusercontent.com/jijeevisha-org/tech-front-info/main/template/blogs.md) to **update & reuse**._"
      ],
      "metadata": {
        "id": "ZjJFU_BnDIEA"
      }
    },
    {
      "cell_type": "markdown",
      "source": [
        "### Library and Pre-requisits"
      ],
      "metadata": {
        "id": "mVfIqEWFCZNz"
      }
    },
    {
      "cell_type": "code",
      "execution_count": null,
      "metadata": {
        "id": "yIbnLKWTB6rO"
      },
      "outputs": [],
      "source": [
        "# library\n",
        "import os\n",
        "import json\n",
        "import requests\n",
        "import pandas as pd\n",
        "import urllib.request as req"
      ]
    },
    {
      "cell_type": "code",
      "source": [
        "# pre-requisite\n",
        "templateLoc = \"https://raw.githubusercontent.com/jijeevisha-org/tech-front-info/main/template/blogs.md\"\n",
        "authLoc = \"https://raw.githubusercontent.com/jijeevisha-org/tech-front-info/main/assets/authors.json\"\n",
        "catgLoc = \"https://raw.githubusercontent.com/jijeevisha-org/tech-front-info/main/assets/categories.json\"\n",
        "\n",
        "blogFile = \"index.md\"\n",
        "authFile = \"auth.json\"\n",
        "catgFile = \"categories.json\""
      ],
      "metadata": {
        "id": "PFbsHHOBQoKG"
      },
      "execution_count": null,
      "outputs": []
    },
    {
      "cell_type": "code",
      "source": [
        "# fields in blog\n",
        "blogTitle = \"<blog's_topic>\"                      # mandatory\n",
        "blogAuthor = \"<authors'_list>\"                    # mandatory (affiliated with Jijeevisha)\n",
        "blogCaterory = \"<categories'_list>\"               # mandatory\n",
        "blogDate = \"<blogging_date_YYYY-MM-DD>\"           # mandatory\n",
        "blogBody = \"<body_of_blog_or_post> \"              # mandatory\n",
        "blogSubtitle: \"<blog's_subtitle>\"                 # optional (original author)\n",
        "blogSummary = \"<blog's_summary>\"                  # optional\n",
        "blogTags = \"<tags'_list>\"                         # optional\n",
        "blogDraftStatus = \"<draft_status>\"                # optional\n",
        "blogTwitterLink = \"<twitter_link_goes_here>\"      # optional\n",
        "blogFootnote = \"<- footnote_(if_any)>\"            # optional\n",
        "\n",
        "## default info\n",
        "defaultSubtitle = \"Unknown\"\n",
        "defaultSummary = \"Shared by Jijeevisha\"\n",
        "defaultAuthor = \"[admin]\"\n",
        "defaultDraftStatus = \"false\"\n",
        "defaultTwitterLink = \"https://twitter.com/jijeevisha_org\"\n",
        "defaultFootnote = \"Shared by Jijeevisha\""
      ],
      "metadata": {
        "id": "qMROznQC0hlE"
      },
      "execution_count": null,
      "outputs": []
    },
    {
      "cell_type": "code",
      "source": [
        "## downloading template & other files\n",
        "_ = req.urlretrieve(templateLoc, blogFile)\n",
        "_ = req.urlretrieve(authLoc, authFile)\n",
        "_ = req.urlretrieve(catgLoc, catgFile)"
      ],
      "metadata": {
        "id": "NF1A1raZREE1"
      },
      "execution_count": null,
      "outputs": []
    },
    {
      "cell_type": "markdown",
      "source": [
        "### Initial Set-up"
      ],
      "metadata": {
        "id": "cF-wWGQYASRo"
      }
    },
    {
      "cell_type": "code",
      "source": [
        "# get json\n",
        "def loadJSON(fName):\n",
        "  thisJSON = False\n",
        "  try:\n",
        "    with open(fName) as file_json:\n",
        "      thisJSON = json.load(file_json)\n",
        "    file_json.close()\n",
        "  except:\n",
        "    print(\"Invalid file path!\")\n",
        "  finally:\n",
        "    return thisJSON"
      ],
      "metadata": {
        "id": "oJYCfK1Agokx"
      },
      "execution_count": null,
      "outputs": []
    },
    {
      "cell_type": "code",
      "source": [
        "# get markdown (and other) file(s)\n",
        "def loadFile(fName):\n",
        "  thisTemplate = False\n",
        "  try:\n",
        "    with open(fName,'r') as file_template:\n",
        "      thisTemplate = file_template.readlines()\n",
        "    file_template.close()\n",
        "    thisTemplate = ''.join(thisTemplate)\n",
        "  except:\n",
        "    print(\"Invalid file path!\")\n",
        "  finally:\n",
        "    return thisTemplate"
      ],
      "metadata": {
        "id": "3bbYIo0uqIkM"
      },
      "execution_count": null,
      "outputs": []
    },
    {
      "cell_type": "code",
      "source": [
        "blogTemplate = loadFile(blogFile)\n",
        "authList = loadJSON(authFile)\n",
        "catgList = loadJSON(catgFile)"
      ],
      "metadata": {
        "id": "MfNwG1MMBWD0"
      },
      "execution_count": null,
      "outputs": []
    },
    {
      "cell_type": "code",
      "source": [
        "## printing downloaded samples\n",
        "print(\"Template of the blog:\\n\\n\", blogTemplate)\n",
        "#print(\"\\n\\n\\n\")\n",
        "#print(authList)\n",
        "#print(\"\\n\\n\\n\")\n",
        "#print(catgList)"
      ],
      "metadata": {
        "colab": {
          "base_uri": "https://localhost:8080/"
        },
        "id": "W7ougcIaDXBw",
        "outputId": "27605aeb-a6d4-46f9-e626-04a16febbde9"
      },
      "execution_count": null,
      "outputs": [
        {
          "output_type": "stream",
          "name": "stdout",
          "text": [
            "Template of the blog:\n",
            "\n",
            " ---\n",
            "title: \"<blog's_topic>\"\n",
            "subtitle: \"<blog's_subtitle>\"\n",
            "summary: \"<blog's_summary>\"\n",
            "authors: <authors'_list> # [auth1, auth2]\n",
            "tags: <tags'_list> # [tag1, tag2]\n",
            "categories: <categories'_list> # [cat1, cat2]\n",
            "date: \"<blogging_date_YYYY-MM-DD>\" # appended with 'T00:00:00Z' eg. \"2022-07-21T00:00:00Z\"\n",
            "featured: true # can play with this\n",
            "draft: false # can play with this\n",
            "\n",
            "# Featured image\n",
            "# # To use, add an image named `featured.jpg/png` to your page's folder.\n",
            "# Placement options: 1 = Full column width, 2 = Out-set, 3 = Screen-width\n",
            "# Focal point options: Smart, Center, TopLeft, Top, TopRight, Left, Right, BottomLeft, Bottom, BottomRight\n",
            "image:\n",
            "  placement: 1\n",
            "  caption: ''\n",
            "  focal_point: \"\"\n",
            "  preview_only: false\n",
            "\n",
            "# Custom links (optional).\n",
            "# Uncomment and edit lines below to show custom links.\n",
            "links:\n",
            "- name: jijeevisha_org\n",
            "  url: <twitter_link_goes_here> # else keep the default\n",
            "  icon_pack: fab\n",
            "  icon: twitter\n",
            "\n",
            "- name: jijeevisha_org\n",
            "  url: https://www.instagram.com/jijeevisha_org/\n",
            "  icon_pack: fab\n",
            "  icon: instagram\n",
            "\n",
            "- name: Old Blogs\n",
            "  url: https://jijeevishaorg.wordpress.com/blog/\n",
            "  icon_pack: fab\n",
            "  icon: wordpress\n",
            "\n",
            "---\n",
            "\n",
            "<body_of_blog_or_post>  \n",
            "\n",
            "_- <footnote_(if_any)>_\n",
            "\n",
            "---  \n",
            "\n"
          ]
        }
      ]
    },
    {
      "cell_type": "markdown",
      "source": [
        "### User Input"
      ],
      "metadata": {
        "id": "e0QIAF-jSctt"
      }
    },
    {
      "cell_type": "markdown",
      "source": [
        "#### **Functions**"
      ],
      "metadata": {
        "id": "2BCnZqB8Erhj"
      }
    },
    {
      "cell_type": "code",
      "source": [
        "def updateTitle(template):\n",
        "  # asking for title\n",
        "  givenTitle = input(\"Title of your blog: \")\n",
        "  # updating title in template\n",
        "  template = template.replace(blogTitle, givenTitle)\n",
        "  return template"
      ],
      "metadata": {
        "id": "_SDIM15QSa0m"
      },
      "execution_count": null,
      "outputs": []
    },
    {
      "cell_type": "markdown",
      "source": [
        "#### **Implemented**"
      ],
      "metadata": {
        "id": "Mk2MswjGEwKu"
      }
    },
    {
      "cell_type": "code",
      "source": [
        "blogTemplate = updateTitle(blogTemplate)"
      ],
      "metadata": {
        "colab": {
          "base_uri": "https://localhost:8080/"
        },
        "id": "wgTcbCTLFHtT",
        "outputId": "8c4c009d-bade-43cb-bca9-91fe838c9a25"
      },
      "execution_count": null,
      "outputs": [
        {
          "name": "stdout",
          "output_type": "stream",
          "text": [
            "Title of your blog: My First Blog\n"
          ]
        }
      ]
    },
    {
      "cell_type": "code",
      "source": [
        "## printing updated samples\n",
        "print(\"Template after updating the title for blog:\\n\\n\", blogTemplate)"
      ],
      "metadata": {
        "colab": {
          "base_uri": "https://localhost:8080/"
        },
        "id": "kZ0W3-WEFPxC",
        "outputId": "8a14f3c6-b6d0-4bf0-e661-aad5366beb05"
      },
      "execution_count": null,
      "outputs": [
        {
          "output_type": "stream",
          "name": "stdout",
          "text": [
            "Template after updating the title for blog:\n",
            "\n",
            " ---\n",
            "title: \"My First Blog\"\n",
            "subtitle: \"<blog's_subtitle>\"\n",
            "summary: \"<blog's_summary>\"\n",
            "authors: <authors'_list> # [auth1, auth2]\n",
            "tags: <tags'_list> # [tag1, tag2]\n",
            "categories: <categories'_list> # [cat1, cat2]\n",
            "date: \"<blogging_date_YYYY-MM-DD>\" # appended with 'T00:00:00Z' eg. \"2022-07-21T00:00:00Z\"\n",
            "featured: true # can play with this\n",
            "draft: false # can play with this\n",
            "\n",
            "# Featured image\n",
            "# # To use, add an image named `featured.jpg/png` to your page's folder.\n",
            "# Placement options: 1 = Full column width, 2 = Out-set, 3 = Screen-width\n",
            "# Focal point options: Smart, Center, TopLeft, Top, TopRight, Left, Right, BottomLeft, Bottom, BottomRight\n",
            "image:\n",
            "  placement: 1\n",
            "  caption: ''\n",
            "  focal_point: \"\"\n",
            "  preview_only: false\n",
            "\n",
            "# Custom links (optional).\n",
            "# Uncomment and edit lines below to show custom links.\n",
            "links:\n",
            "- name: jijeevisha_org\n",
            "  url: <twitter_link_goes_here> # else keep the default\n",
            "  icon_pack: fab\n",
            "  icon: twitter\n",
            "\n",
            "- name: jijeevisha_org\n",
            "  url: https://www.instagram.com/jijeevisha_org/\n",
            "  icon_pack: fab\n",
            "  icon: instagram\n",
            "\n",
            "- name: Old Blogs\n",
            "  url: https://jijeevishaorg.wordpress.com/blog/\n",
            "  icon_pack: fab\n",
            "  icon: wordpress\n",
            "\n",
            "---\n",
            "\n",
            "<body_of_blog_or_post>  \n",
            "\n",
            "_- <footnote_(if_any)>_\n",
            "\n",
            "---  \n",
            "\n"
          ]
        }
      ]
    },
    {
      "cell_type": "markdown",
      "source": [
        "### Preprocessing Input"
      ],
      "metadata": {
        "id": "MIdQbdVQSlUx"
      }
    },
    {
      "cell_type": "code",
      "source": [
        "# to be decleared"
      ],
      "metadata": {
        "id": "iqbBlqQsSkiC"
      },
      "execution_count": null,
      "outputs": []
    },
    {
      "cell_type": "markdown",
      "source": [
        "### Updating Templates"
      ],
      "metadata": {
        "id": "9zxh9GV9SqNQ"
      }
    },
    {
      "cell_type": "code",
      "source": [
        "# to be decleared"
      ],
      "metadata": {
        "id": "zdI7igfFSsz7"
      },
      "execution_count": null,
      "outputs": []
    },
    {
      "cell_type": "markdown",
      "source": [
        "### Exporting"
      ],
      "metadata": {
        "id": "jY5qkFqfSvbH"
      }
    },
    {
      "cell_type": "code",
      "source": [
        "# to be decleared"
      ],
      "metadata": {
        "id": "dpiAoQBNSwxu"
      },
      "execution_count": null,
      "outputs": []
    }
  ]
}