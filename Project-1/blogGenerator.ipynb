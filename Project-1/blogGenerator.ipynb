{
  "nbformat": 4,
  "nbformat_minor": 0,
  "metadata": {
    "colab": {
      "provenance": [],
      "collapsed_sections": [],
      "include_colab_link": true
    },
    "kernelspec": {
      "name": "python3",
      "display_name": "Python 3"
    },
    "language_info": {
      "name": "python"
    }
  },
  "cells": [
    {
      "cell_type": "markdown",
      "metadata": {
        "id": "view-in-github",
        "colab_type": "text"
      },
      "source": [
        "<a href=\"https://colab.research.google.com/github/ravi-prakash1907/A-tracking-of-COVID-19/blob/master/Project-1/blogGenerator.ipynb\" target=\"_parent\"><img src=\"https://colab.research.google.com/assets/colab-badge.svg\" alt=\"Open In Colab\"/></a>"
      ]
    },
    {
      "cell_type": "markdown",
      "source": [
        "# **Problem:** Generate the Blog's Directory from Raw Data  \n",
        "\n",
        "_(it can either be provided as user input or through some datafile)_  \n",
        "\n",
        "**Detail:**  \n",
        "We aim to create a `python` script to generate a [`markdown`](https://enterprise.github.com/downloads/en/markdown-cheatsheet.pdf) file for the new blogs based on the user input. This `markdown` (`index.md`) is automatically rendered into a web page from the backend code. The program is meant to ask questions based on the required fields for the blog and populate the template file.  \n",
        "\n",
        "For every blog, there is a directory that is named after the _'title of blog'_, and holds the following file(s):  \n",
        "1. **`index.md`**: the original blogs' content  \n",
        "2. **`featured.jpg`**: an _(optional)_ image for being displayed at the top of the blog  \n",
        "3. Hence, the structure becomes:  \n",
        "> 📁 `title_of_blog`  \n",
        "> │  \n",
        "> ├── 📄 `index.md`       \n",
        "> │  \n",
        "> └── 🖼️ `featured.jpg`  \n",
        "\n",
        "The **primary goal** is only to save the updated template (markdown) file as `index.md` into it's parent directory.  \n",
        "\n",
        "---  \n",
        "\n"
      ],
      "metadata": {
        "id": "TZdpzc5ZB_vw"
      }
    },
    {
      "cell_type": "markdown",
      "source": [
        "**A sample file for blog is given below:**  \n",
        "\n",
        "```\n",
        "---\n",
        "title: \"<blog's_topic>\"\n",
        "subtitle: \"<blog's_subtitle>\"\n",
        "summary: \"<blog's_summary>\"\n",
        "authors: <authors'_list> # [auth1, auth2]\n",
        "tags: <tags'_list> # [tag1, tag2]\n",
        "categories: <categories'_list> # [cat1, cat2]\n",
        "date: \"<blogging_date_YYYY-MM-DD>\" # appended with 'T00:00:00Z' eg. \"2022-07-21T00:00:00Z\"\n",
        "featured: true # can play with this\n",
        "draft: false # can play with this\n",
        "\n",
        "# Featured image\n",
        "# # To use, add an image named `featured.jpg/png` to your page's folder.\n",
        "# Placement options: 1 = Full column width, 2 = Out-set, 3 = Screen-width\n",
        "# Focal point options: Smart, Center, TopLeft, Top, TopRight, Left, Right, BottomLeft, Bottom, BottomRight\n",
        "image:\n",
        "  placement: 1\n",
        "  caption: ''\n",
        "  focal_point: \"\"\n",
        "  preview_only: false\n",
        "\n",
        "# Custom links (optional).\n",
        "# Uncomment and edit lines below to show custom links.\n",
        "links:\n",
        "- name: jijeevisha_org\n",
        "  url: <twitter_link_goes_here> # else keep the default\n",
        "  icon_pack: fab\n",
        "  icon: twitter\n",
        "\n",
        "- name: jijeevisha_org\n",
        "  url: https://www.instagram.com/jijeevisha_org/\n",
        "  icon_pack: fab\n",
        "  icon: instagram\n",
        "\n",
        "- name: Old Blogs\n",
        "  url: https://jijeevishaorg.wordpress.com/blog/\n",
        "  icon_pack: fab\n",
        "  icon: wordpress\n",
        "\n",
        "---\n",
        "\n",
        "<body_of_blog_or_post>  \n",
        "\n",
        "_<- footnote_(if_any)>_\n",
        "\n",
        "---  \n",
        "```  \n",
        "\n",
        "_\\* The above sample file can be accessed from [this link](https://github.com/jijeevisha-org/tech-front-info/blob/main/template/blogs.md). Download it from [https://raw.githubusercontent.com/jijeevisha-org/tech-front-info/main/template/blogs.md](https://raw.githubusercontent.com/jijeevisha-org/tech-front-info/main/template/blogs.md) to **update & reuse**._"
      ],
      "metadata": {
        "id": "ZjJFU_BnDIEA"
      }
    },
    {
      "cell_type": "markdown",
      "source": [
        "### Library and Pre-requisits"
      ],
      "metadata": {
        "id": "mVfIqEWFCZNz"
      }
    },
    {
      "cell_type": "code",
      "execution_count": 1,
      "metadata": {
        "id": "yIbnLKWTB6rO"
      },
      "outputs": [],
      "source": [
        "# library\n",
        "import os\n",
        "import json\n",
        "import requests\n",
        "import pandas as pd\n",
        "import urllib.request as req"
      ]
    },
    {
      "cell_type": "code",
      "source": [
        "# pre-requisite\n",
        "templateLoc = \"https://raw.githubusercontent.com/jijeevisha-org/tech-front-info/main/jjv_template/blogs.txt\"\n",
        "authLoc = \"https://raw.githubusercontent.com/jijeevisha-org/tech-front-info/main/assets/authors.json\"\n",
        "catgLoc = \"https://raw.githubusercontent.com/jijeevisha-org/tech-front-info/main/assets/categories.json\"\n",
        "\n",
        "blogFile = \"index.md\"\n",
        "authFile = \"auth.json\"\n",
        "catgFile = \"categories.json\""
      ],
      "metadata": {
        "id": "PFbsHHOBQoKG"
      },
      "execution_count": 2,
      "outputs": []
    },
    {
      "cell_type": "code",
      "source": [
        "# fields in blog\n",
        "blogTitle = \"<blog's_topic>\"                      # mandatory\n",
        "blogAuthor = \"<authors'_list>\"                    # mandatory (affiliated with Jijeevisha)\n",
        "blogCaterory = \"<categories'_list>\"               # mandatory\n",
        "blogDate = \"<blogging_date_YYYY-MM-DD>\"           # mandatory\n",
        "blogBody = \"<body_of_blog_or_post> \"              # mandatory\n",
        "blogSubtitle: \"<blog's_subtitle>\"                 # optional (original author)\n",
        "blogSummary = \"<blog's_summary>\"                  # optional\n",
        "blogTags = \"<tags'_list>\"                         # optional\n",
        "blogDraftStatus = \"<draft_status>\"                # optional\n",
        "blogTwitterLink = \"<twitter_link_goes_here>\"      # optional\n",
        "blogFootnote = \"<- footnote_(if_any)>\"            # optional\n",
        "\n",
        "## default info\n",
        "defaultSubtitle = \"Unknown\"\n",
        "defaultSummary = \"Shared by Jijeevisha\"\n",
        "defaultAuthor = \"[admin]\"\n",
        "defaultDraftStatus = \"false\"\n",
        "defaultTwitterLink = \"https://twitter.com/jijeevisha_org\"\n",
        "defaultFootnote = \"Shared by Jijeevisha\""
      ],
      "metadata": {
        "id": "qMROznQC0hlE"
      },
      "execution_count": 3,
      "outputs": []
    },
    {
      "cell_type": "code",
      "source": [
        "## downloading template & other files\n",
        "_ = req.urlretrieve(templateLoc, blogFile)\n",
        "_ = req.urlretrieve(authLoc, authFile)\n",
        "_ = req.urlretrieve(catgLoc, catgFile)"
      ],
      "metadata": {
        "id": "NF1A1raZREE1"
      },
      "execution_count": 4,
      "outputs": []
    },
    {
      "cell_type": "markdown",
      "source": [
        "### Initial Set-up"
      ],
      "metadata": {
        "id": "cF-wWGQYASRo"
      }
    },
    {
      "cell_type": "code",
      "source": [
        "# get json\n",
        "def loadJSON(fName):\n",
        "  thisJSON = False\n",
        "  try:\n",
        "    with open(fName) as file_json:\n",
        "      thisJSON = json.load(file_json)\n",
        "    file_json.close()\n",
        "  except:\n",
        "    print(\"Invalid file path!\")\n",
        "  finally:\n",
        "    return thisJSON"
      ],
      "metadata": {
        "id": "oJYCfK1Agokx"
      },
      "execution_count": 5,
      "outputs": []
    },
    {
      "cell_type": "code",
      "source": [
        "# get markdown (and other) file(s)\n",
        "def loadFile(fName):\n",
        "  thisTemplate = False\n",
        "  try:\n",
        "    with open(fName,'r') as file_template:\n",
        "      thisTemplate = file_template.readlines()\n",
        "    file_template.close()\n",
        "    thisTemplate = ''.join(thisTemplate)\n",
        "  except:\n",
        "    print(\"Invalid file path!\")\n",
        "  finally:\n",
        "    return thisTemplate"
      ],
      "metadata": {
        "id": "3bbYIo0uqIkM"
      },
      "execution_count": 6,
      "outputs": []
    },
    {
      "cell_type": "code",
      "source": [
        "blogTemplate = loadFile(blogFile)\n",
        "authList = loadJSON(authFile)\n",
        "catgList = loadJSON(catgFile)"
      ],
      "metadata": {
        "id": "MfNwG1MMBWD0"
      },
      "execution_count": 7,
      "outputs": []
    },
    {
      "cell_type": "code",
      "source": [
        "## printing downloaded samples\n",
        "print(\"Template of the blog:\\n\\n\", blogTemplate)\n",
        "#print(\"\\n\\n\\n\")\n",
        "#print(authList)\n",
        "#print(\"\\n\\n\\n\")\n",
        "#print(catgList)"
      ],
      "metadata": {
        "colab": {
          "base_uri": "https://localhost:8080/"
        },
        "id": "W7ougcIaDXBw",
        "outputId": "9f4b12e8-01a8-44c3-e0e2-fbd80abcfc98"
      },
      "execution_count": 8,
      "outputs": [
        {
          "output_type": "stream",
          "name": "stdout",
          "text": [
            "Template of the blog:\n",
            "\n",
            " ---\n",
            "title: \"<blog's_topic>\"\n",
            "subtitle: \"<blog's_subtitle>\"\n",
            "summary: \"<blog's_summary>\"\n",
            "authors: <authors'_list> # [auth1, auth2]\n",
            "tags: <tags'_list> # [tag1, tag2]\n",
            "categories: <categories'_list> # [cat1, cat2]\n",
            "date: \"<blogging_date_YYYY-MM-DD>\" # appended with 'T00:00:00Z' eg. \"2022-07-21T00:00:00Z\"\n",
            "featured: true # can play with this\n",
            "draft: false # can play with this\n",
            "\n",
            "# Featured image\n",
            "# # To use, add an image named `featured.jpg/png` to your page's folder.\n",
            "# Placement options: 1 = Full column width, 2 = Out-set, 3 = Screen-width\n",
            "# Focal point options: Smart, Center, TopLeft, Top, TopRight, Left, Right, BottomLeft, Bottom, BottomRight\n",
            "image:\n",
            "  placement: 1\n",
            "  caption: ''\n",
            "  focal_point: \"\"\n",
            "  preview_only: false\n",
            "\n",
            "# Custom links (optional).\n",
            "# Uncomment and edit lines below to show custom links.\n",
            "links:\n",
            "- name: jijeevisha_org\n",
            "  url: <twitter_link_goes_here> # else keep the default\n",
            "  icon_pack: fab\n",
            "  icon: twitter\n",
            "\n",
            "- name: jijeevisha_org\n",
            "  url: https://www.instagram.com/jijeevisha_org/\n",
            "  icon_pack: fab\n",
            "  icon: instagram\n",
            "\n",
            "- name: Old Blogs\n",
            "  url: https://jijeevishaorg.wordpress.com/blog/\n",
            "  icon_pack: fab\n",
            "  icon: wordpress\n",
            "\n",
            "---\n",
            "\n",
            "<body_of_blog_or_post>  \n",
            "\n",
            "_- <footnote_(if_any)>_\n",
            "\n",
            "---  \n",
            "\n"
          ]
        }
      ]
    },
    {
      "cell_type": "markdown",
      "source": [
        "### User Input"
      ],
      "metadata": {
        "id": "e0QIAF-jSctt"
      }
    },
    {
      "cell_type": "markdown",
      "source": [
        "#### **Functions**"
      ],
      "metadata": {
        "id": "2BCnZqB8Erhj"
      }
    },
    {
      "cell_type": "code",
      "source": [
        "def updateTitle(template):\n",
        "  # asking for title\n",
        "  givenTitle = input(\"Title of your blog: \")\n",
        "  # updating title in template\n",
        "  template = template.replace(blogTitle, givenTitle)\n",
        "  return template"
      ],
      "metadata": {
        "id": "_SDIM15QSa0m"
      },
      "execution_count": null,
      "outputs": []
    },
    {
      "cell_type": "markdown",
      "source": [
        "#### **Implemented**"
      ],
      "metadata": {
        "id": "Mk2MswjGEwKu"
      }
    },
    {
      "cell_type": "code",
      "source": [
        "blogTemplate = updateTitle(blogTemplate)"
      ],
      "metadata": {
        "colab": {
          "base_uri": "https://localhost:8080/"
        },
        "id": "wgTcbCTLFHtT",
        "outputId": "8c4c009d-bade-43cb-bca9-91fe838c9a25"
      },
      "execution_count": null,
      "outputs": [
        {
          "name": "stdout",
          "output_type": "stream",
          "text": [
            "Title of your blog: My First Blog\n"
          ]
        }
      ]
    },
    {
      "cell_type": "code",
      "source": [
        "## printing updated samples\n",
        "print(\"Template after updating the title for blog:\\n\\n\", blogTemplate)"
      ],
      "metadata": {
        "colab": {
          "base_uri": "https://localhost:8080/"
        },
        "id": "kZ0W3-WEFPxC",
        "outputId": "8a14f3c6-b6d0-4bf0-e661-aad5366beb05"
      },
      "execution_count": null,
      "outputs": [
        {
          "output_type": "stream",
          "name": "stdout",
          "text": [
            "Template after updating the title for blog:\n",
            "\n",
            " ---\n",
            "title: \"My First Blog\"\n",
            "subtitle: \"<blog's_subtitle>\"\n",
            "summary: \"<blog's_summary>\"\n",
            "authors: <authors'_list> # [auth1, auth2]\n",
            "tags: <tags'_list> # [tag1, tag2]\n",
            "categories: <categories'_list> # [cat1, cat2]\n",
            "date: \"<blogging_date_YYYY-MM-DD>\" # appended with 'T00:00:00Z' eg. \"2022-07-21T00:00:00Z\"\n",
            "featured: true # can play with this\n",
            "draft: false # can play with this\n",
            "\n",
            "# Featured image\n",
            "# # To use, add an image named `featured.jpg/png` to your page's folder.\n",
            "# Placement options: 1 = Full column width, 2 = Out-set, 3 = Screen-width\n",
            "# Focal point options: Smart, Center, TopLeft, Top, TopRight, Left, Right, BottomLeft, Bottom, BottomRight\n",
            "image:\n",
            "  placement: 1\n",
            "  caption: ''\n",
            "  focal_point: \"\"\n",
            "  preview_only: false\n",
            "\n",
            "# Custom links (optional).\n",
            "# Uncomment and edit lines below to show custom links.\n",
            "links:\n",
            "- name: jijeevisha_org\n",
            "  url: <twitter_link_goes_here> # else keep the default\n",
            "  icon_pack: fab\n",
            "  icon: twitter\n",
            "\n",
            "- name: jijeevisha_org\n",
            "  url: https://www.instagram.com/jijeevisha_org/\n",
            "  icon_pack: fab\n",
            "  icon: instagram\n",
            "\n",
            "- name: Old Blogs\n",
            "  url: https://jijeevishaorg.wordpress.com/blog/\n",
            "  icon_pack: fab\n",
            "  icon: wordpress\n",
            "\n",
            "---\n",
            "\n",
            "<body_of_blog_or_post>  \n",
            "\n",
            "_- <footnote_(if_any)>_\n",
            "\n",
            "---  \n",
            "\n"
          ]
        }
      ]
    },
    {
      "cell_type": "markdown",
      "source": [
        "#### **Complete Class**"
      ],
      "metadata": {
        "id": "BhKSUsPet8zJ"
      }
    },
    {
      "cell_type": "code",
      "source": [
        "class blogGen:\n",
        "  def __init__(self, template):\n",
        "    ## BASICS\n",
        "    self.blogLang = \"en\" # english is default\n",
        "    self.template = template\n",
        "    self.templateBkp = template\n",
        "    # fields in blog\n",
        "    self.blogTitle = \"<blog's_topic>\"                      # mandatory\n",
        "    self.blogAuthor = \"<authors'_list>\"                    # mandatory (affiliated with Jijeevisha)\n",
        "    self.blogCaterory = \"<categories'_list>\"               # mandatory\n",
        "    self.blogDate = \"<blogging_date_YYYY-MM-DD>\"           # mandatory\n",
        "    self.blogBody = \"<body_of_blog_or_post> \"              # mandatory\n",
        "    self.blogSubtitle = \"<blog's_subtitle>\"                 # optional (original author)\n",
        "    self.blogSummary = \"<blog's_summary>\"                  # optional\n",
        "    self.blogTags = \"<tags'_list>\"                         # optional\n",
        "    self.blogDraftStatus = \"<draft_status>\"                # optional\n",
        "    self.blogFootnote = \"<footnote_(if_any)>\"            # optional\n",
        "    ## default info\n",
        "    self.defaultSubtitle = \"Unknown\"\n",
        "    self.defaultSummary = \"Shared by Jijeevisha\"\n",
        "    self.defaultAuthor = \"[admin]\"\n",
        "    self.defaultDraftStatus = \"false\"\n",
        "    self.defaultTwitterLink = \"https://twitter.com/jijeevisha_org\"\n",
        "    self.defaultFootnote = \"Shared by Jijeevisha\"\n",
        "  \n",
        "  ###############\n",
        "  \n",
        "  def setLang(self):\n",
        "    lang = input(\"\"\"Choose the language of your blog:\n",
        "    1) English \n",
        "    2) Hindi\n",
        "    *  Enter your choice: \"\"\")\n",
        "    self.blogLang = 'hi' if lang == 2 else 'en'\n",
        "    return True\n",
        "  \n",
        "  ###############\n",
        "\n",
        "  def updateTitle(self):\n",
        "    # asking for title\n",
        "    givenTitle = input(\"Title of your blog: \")\n",
        "    # updating title in template\n",
        "    ## NEEDS TO BE PROCESSED BEFORE PLACING INTO THE TEMPLATE ##\n",
        "    self.template = self.template.replace(self.blogTitle, givenTitle)\n",
        "    return True\n",
        "\n",
        "  def updateSubtitle(self):\n",
        "    # asking for title\n",
        "    givenSubtitle = input(\"Sub-title (the original author or source) of your blog: \")\n",
        "    # updating title in template\n",
        "    ## NEEDS TO BE PROCESSED BEFORE PLACING INTO THE TEMPLATE ##\n",
        "    self.template = self.template.replace(self.blogSubtitle, givenSubtitle)\n",
        "    return True\n",
        "\n",
        "  def updateAuthors(self):\n",
        "    # asking for title\n",
        "    givenAuthors = input(\"Author(s) of your blog (as list): \")\n",
        "    # updating author(s) in template\n",
        "    self.template = self.template.replace(self.blogAuthor, givenAuthors)\n",
        "    return True\n",
        "\n",
        "  def updateCaterory(self):\n",
        "    # asking for title\n",
        "    givenCaterory = input(\"Caterory of your blog (as list): \")\n",
        "    # updating title in template\n",
        "    self.template = self.template.replace(self.blogCaterory, givenCaterory)\n",
        "    return True\n",
        "\n",
        "  def updateTags(self):\n",
        "    # asking for title\n",
        "    givenTags = input(\"Tags for your blog (as list): \")\n",
        "    # updating title in template\n",
        "    self.template = self.template.replace(self.blogTags, givenTags)\n",
        "    return True\n",
        "\n",
        "  def updateDate(self):\n",
        "    # asking for title\n",
        "    givenDate = input(\"Publishing date for your blog (YYYY-MM-DD): \") + \"T00:00:00Z\"\n",
        "    # updating title in template\n",
        "    self.template = self.template.replace(self.blogDate, givenDate)\n",
        "    return True\n",
        "\n",
        "  def updateTwitterLink(self):\n",
        "    # asking for title\n",
        "    #givenTwitterLink = input(\"Link to the tweet for a discussion thread orelated to this blog: \")\n",
        "    # updating title in template\n",
        "    #self.template = self.template.replace(self.blogTwitterLink, givenTwitterLink)\n",
        "    pass\n",
        "    return True\n",
        "\n",
        "  def updateSummary(self):\n",
        "    # asking for title\n",
        "    givenSummary = input(\"Summarize your blog in single sentance: \")\n",
        "    # updating title in template\n",
        "    ## NEEDS TO BE PROCESSED BEFORE PLACING INTO THE TEMPLATE ##\n",
        "    self.template = self.template.replace(self.blogSummary, givenSummary)\n",
        "    return True\n",
        "\n",
        "  def updateBody(self):\n",
        "    # asking for title\n",
        "    givenBody = input(\"Content of your blog: \")\n",
        "    # updating title in template\n",
        "    ## NEEDS TO BE PROCESSED BEFORE PLACING INTO THE TEMPLATE ##\n",
        "    self.template = self.template.replace(self.blogBody, givenBody)\n",
        "    return True\n",
        "\n",
        "  def updateFootnote(self):\n",
        "    # asking for title\n",
        "    givenFootnote = input(\"Add a footnote to your blog \\n(eg.: 'Original Author (Shared by Jijeevisha Member from Book Name)' ): \")\n",
        "    # updating title in template\n",
        "    ## NEEDS TO BE PROCESSED BEFORE PLACING INTO THE TEMPLATE ##\n",
        "    self.template = self.template.replace(self.blogFootnote, givenFootnote)\n",
        "    return True\n",
        "\n",
        "  ###############\n",
        "\n",
        "  def generateNewBlog(self):\n",
        "    print(\"Provide the following inputs:\\n.{}\\n\\n\".format(\"-\"*28))\n",
        "    self.setLang()\n",
        "    try:\n",
        "      ## inputs\n",
        "      self.updateTitle()\n",
        "      self.updateSubtitle()\n",
        "      self.updateAuthors()\n",
        "      self.updateCaterory()\n",
        "      self.updateTags()\n",
        "      self.updateDate()\n",
        "      self.updateTwitterLink()\n",
        "      self.updateSummary()\n",
        "      self.updateBody()\n",
        "      self.updateFootnote()\n",
        "      return self.template\n",
        "    except:\n",
        "      print(\"Ughh!! Something went wrong! \\nTry again!\")\n",
        "      self.template = self.templateBkp\n",
        "      return False"
      ],
      "metadata": {
        "id": "m81H1JqAj0-a"
      },
      "execution_count": 32,
      "outputs": []
    },
    {
      "cell_type": "markdown",
      "source": [
        "#### **Implemented**"
      ],
      "metadata": {
        "id": "gG4UxX3YuAgk"
      }
    },
    {
      "cell_type": "code",
      "source": [
        "thisBlog = blogGen(blogTemplate)\n",
        "gotBlog = thisBlog.generateNewBlog()"
      ],
      "metadata": {
        "id": "Ry4swNwQuBUL",
        "outputId": "8107dda5-49be-43ea-9075-97be515de12f",
        "colab": {
          "base_uri": "https://localhost:8080/"
        }
      },
      "execution_count": 33,
      "outputs": [
        {
          "name": "stdout",
          "output_type": "stream",
          "text": [
            "Provide the following inputs:\n",
            ".----------------------------\n",
            "\n",
            "\n",
            "Choose the language of your blog:\n",
            "    1) English \n",
            "    2) Hindi\n",
            "    *  Enter your choice: 2\n",
            "Title of your blog: सफलता का रहस्य\n",
            "Sub-title (the original author or source) of your blog: सूरज\n",
            "Author(s) of your blog (as list): [suraj_rt_jjv]\n",
            "Caterory of your blog (as list): [प्रेरक, ब्लॉग]\n",
            "Tags for your blog (as list): [लक्ष्य, कड़ी, मेहनत, प्रेरणादायक]\n",
            "Publishing date for your blog (YYYY-MM-DD): 2022-11-05\n",
            "Summarize your blog in single sentance: सूरज द्वारा लिखित\n",
            "Summarize your blog in single sentance: एक बार एक युवक ने बुद्धिमान व्यक्ति सुकरात से सफलता का रहस्य पूछा। सुकरात ने धैर्यपूर्वक उस व्यक्ति के प्रश्न को सुना और उसे उत्तर के लिए अगली सुबह नदी के पास मिलने के लिए कहा। अगली सुबह सुकरात ने युवक को अपने साथ नदी की ओर चलने को कहा। जैसे ही वे नदी में गए, पानी उनके गले में चढ़ गया। लेकिन युवक को आश्चर्य हुआ कि सुकरात ने उसे पानी में डुबा दिया। युवक ने पानी से बाहर निकलने के लिए संघर्ष किया, लेकिन सुकरात मजबूत था और उसे तब तक वहीं रखा जब तक कि लड़का नीला न होने लगे। सुकरात ने उस आदमी का सिर पानी से बाहर निकाला। युवक ने हांफते हुए हवा में गहरी सांस ली। सुकरात ने पूछा, ‘जब तुम्हारा सिर पानी में था तो तुम सबसे ज्यादा क्या चाहते थे? युवक ने उत्तर दिया, “हवा।” सुकरात ने कहा, “यही सफलता का रहस्य है। जब आप सफलता को उतनी ही बुरी तरह से चाहते हैं जितना आप पानी में रहते हुए हवा चाहते थे, तो आपको यह मिल जाएगा। कोई और रहस्य नहीं है।” लघुकथा का नैतिक : एक ज्वलंत इच्छा सभी सिद्धियों का प्रारंभिक बिंदु है। जैसे एक छोटी सी आग ज्यादा गर्मी नहीं दे सकती, वैसे ही एक कमजोर इच्छा महान परिणाम नहीं दे सकती।\n",
            "Add a footnote to your blog \n",
            "(eg.: 'Original Author (Shared by Jijeevisha Member from Book Name)' ): सूरज\n"
          ]
        }
      ]
    },
    {
      "cell_type": "code",
      "source": [
        "print(gotBlog)"
      ],
      "metadata": {
        "id": "VEwCWU5OvADc",
        "outputId": "abe3ab3b-f330-4c1b-f91b-a1b8eefa9c73",
        "colab": {
          "base_uri": "https://localhost:8080/"
        }
      },
      "execution_count": 34,
      "outputs": [
        {
          "output_type": "stream",
          "name": "stdout",
          "text": [
            "---\n",
            "title: \"सफलता का रहस्य\"\n",
            "subtitle: \"सूरज\"\n",
            "summary: \"सूरज द्वारा लिखित\"\n",
            "authors: [suraj_rt_jjv] # [auth1, auth2]\n",
            "tags: [लक्ष्य, कड़ी, मेहनत, प्रेरणादायक] # [tag1, tag2]\n",
            "categories: [प्रेरक, ब्लॉग] # [cat1, cat2]\n",
            "date: \"<blogging_date_YYYY-MM-DD>\" # appended with 'T00:00:00Z' eg. \"2022-07-21T00:00:00Z\"\n",
            "featured: true # can play with this\n",
            "draft: false # can play with this\n",
            "\n",
            "# Featured image\n",
            "# # To use, add an image named `featured.jpg/png` to your page's folder.\n",
            "# Placement options: 1 = Full column width, 2 = Out-set, 3 = Screen-width\n",
            "# Focal point options: Smart, Center, TopLeft, Top, TopRight, Left, Right, BottomLeft, Bottom, BottomRight\n",
            "image:\n",
            "  placement: 1\n",
            "  caption: ''\n",
            "  focal_point: \"\"\n",
            "  preview_only: false\n",
            "\n",
            "# Custom links (optional).\n",
            "# Uncomment and edit lines below to show custom links.\n",
            "links:\n",
            "- name: jijeevisha_org\n",
            "  url: <twitter_link_goes_here> # else keep the default\n",
            "  icon_pack: fab\n",
            "  icon: twitter\n",
            "\n",
            "- name: jijeevisha_org\n",
            "  url: https://www.instagram.com/jijeevisha_org/\n",
            "  icon_pack: fab\n",
            "  icon: instagram\n",
            "\n",
            "- name: Old Blogs\n",
            "  url: https://jijeevishaorg.wordpress.com/blog/\n",
            "  icon_pack: fab\n",
            "  icon: wordpress\n",
            "\n",
            "---\n",
            "\n",
            "एक बार एक युवक ने बुद्धिमान व्यक्ति सुकरात से सफलता का रहस्य पूछा। सुकरात ने धैर्यपूर्वक उस व्यक्ति के प्रश्न को सुना और उसे उत्तर के लिए अगली सुबह नदी के पास मिलने के लिए कहा। अगली सुबह सुकरात ने युवक को अपने साथ नदी की ओर चलने को कहा। जैसे ही वे नदी में गए, पानी उनके गले में चढ़ गया। लेकिन युवक को आश्चर्य हुआ कि सुकरात ने उसे पानी में डुबा दिया। युवक ने पानी से बाहर निकलने के लिए संघर्ष किया, लेकिन सुकरात मजबूत था और उसे तब तक वहीं रखा जब तक कि लड़का नीला न होने लगे। सुकरात ने उस आदमी का सिर पानी से बाहर निकाला। युवक ने हांफते हुए हवा में गहरी सांस ली। सुकरात ने पूछा, ‘जब तुम्हारा सिर पानी में था तो तुम सबसे ज्यादा क्या चाहते थे? युवक ने उत्तर दिया, “हवा।” सुकरात ने कहा, “यही सफलता का रहस्य है। जब आप सफलता को उतनी ही बुरी तरह से चाहते हैं जितना आप पानी में रहते हुए हवा चाहते थे, तो आपको यह मिल जाएगा। कोई और रहस्य नहीं है।” लघुकथा का नैतिक : एक ज्वलंत इच्छा सभी सिद्धियों का प्रारंभिक बिंदु है। जैसे एक छोटी सी आग ज्यादा गर्मी नहीं दे सकती, वैसे ही एक कमजोर इच्छा महान परिणाम नहीं दे सकती। \n",
            "\n",
            "_- <footnote_(if_any)>_\n",
            "\n",
            "---  \n",
            "\n"
          ]
        }
      ]
    },
    {
      "cell_type": "markdown",
      "source": [
        "### Preprocessing Input"
      ],
      "metadata": {
        "id": "MIdQbdVQSlUx"
      }
    },
    {
      "cell_type": "code",
      "source": [
        "# to be decleared"
      ],
      "metadata": {
        "id": "iqbBlqQsSkiC"
      },
      "execution_count": null,
      "outputs": []
    },
    {
      "cell_type": "markdown",
      "source": [
        "### Updating Templates"
      ],
      "metadata": {
        "id": "9zxh9GV9SqNQ"
      }
    },
    {
      "cell_type": "code",
      "source": [
        "# to be decleared"
      ],
      "metadata": {
        "id": "zdI7igfFSsz7"
      },
      "execution_count": null,
      "outputs": []
    },
    {
      "cell_type": "markdown",
      "source": [
        "### Exporting"
      ],
      "metadata": {
        "id": "jY5qkFqfSvbH"
      }
    },
    {
      "cell_type": "code",
      "source": [
        "# to be decleared"
      ],
      "metadata": {
        "id": "dpiAoQBNSwxu"
      },
      "execution_count": null,
      "outputs": []
    }
  ]
}