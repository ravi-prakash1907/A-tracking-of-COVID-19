{
  "nbformat": 4,
  "nbformat_minor": 0,
  "metadata": {
    "colab": {
      "provenance": [],
      "authorship_tag": "ABX9TyPmjT7Du4tcFFstNeDqipn+",
      "include_colab_link": true
    },
    "kernelspec": {
      "name": "python3",
      "display_name": "Python 3"
    },
    "language_info": {
      "name": "python"
    }
  },
  "cells": [
    {
      "cell_type": "markdown",
      "metadata": {
        "id": "view-in-github",
        "colab_type": "text"
      },
      "source": [
        "<a href=\"https://colab.research.google.com/github/ravi-prakash1907/A-tracking-of-COVID-19/blob/master/Problem_Images.ipynb\" target=\"_parent\"><img src=\"https://colab.research.google.com/assets/colab-badge.svg\" alt=\"Open In Colab\"/></a>"
      ]
    },
    {
      "cell_type": "code",
      "execution_count": 7,
      "metadata": {
        "id": "guPkWfN0bxQY"
      },
      "outputs": [],
      "source": [
        "from text_to_pic import *"
      ]
    },
    {
      "cell_type": "markdown",
      "source": [
        "---"
      ],
      "metadata": {
        "id": "0gIb5h3h2CJs"
      }
    },
    {
      "cell_type": "code",
      "source": [
        "from PIL import Image\n",
        "\n",
        "def hideStegoLSB(cover='cover_image.jpg', secret='secret_image.jpg', saveAs='stego_image.png'):\n",
        "  # Load the cover image and the secret image\n",
        "  cover_image = Image.open(cover)\n",
        "  secret_image = Image.open(secret)\n",
        "\n",
        "  # Get the pixel data for the cover image and the secret image\n",
        "  cover_data = cover_image.load()\n",
        "  secret_data = secret_image.load()\n",
        "\n",
        "  pxSaveCount = 4\n",
        "  pxHideCount = 8-pxSaveCount\n",
        "\n",
        "  # Iterate over each pixel in the secret image and hide it in the LSB of the cover image\n",
        "  for i in range(secret_image.size[0]):\n",
        "    for j in range(secret_image.size[1]):\n",
        "      ## cover pic\n",
        "      cover_r, cover_g, cover_b = cover_data[i, j]\n",
        "      cover_r_bin = format(cover_r, '08b')\n",
        "      cover_g_bin = format(cover_g, '08b')\n",
        "      cover_b_bin = format(cover_b, '08b')\n",
        "      ## secret pic\n",
        "      r, g, b = secret_data[i, j]\n",
        "      r_bin = format(r, '08b')\n",
        "      g_bin = format(g, '08b')\n",
        "      b_bin = format(b, '08b')\n",
        "      ## new pic = cover[MSB-4] + secret[LSB-4]\n",
        "      new_r_bin = cover_r_bin[:pxHideCount] + r_bin[pxHideCount:]\n",
        "      new_g_bin = cover_g_bin[:pxHideCount] + g_bin[pxHideCount:]\n",
        "      new_b_bin = cover_b_bin[:pxHideCount] + b_bin[pxHideCount:]\n",
        "      new_r = int(new_r_bin, 2)\n",
        "      new_g = int(new_g_bin, 2)\n",
        "      new_b = int(new_b_bin, 2)\n",
        "      cover_data[i, j] = (new_r, new_g, new_b)\n",
        "\n",
        "  #print(\"secret_data[310,222] = {} | stego_data[310,222] = {}\".format(secret_data[310,222],cover_data[310,222]))\n",
        "  # Save the stego image\n",
        "  cover_image.save(saveAs)\n",
        "  return\n"
      ],
      "metadata": {
        "id": "5ILZOOO6ihWA"
      },
      "execution_count": 9,
      "outputs": []
    },
    {
      "cell_type": "code",
      "source": [
        "def recoverStegoLSB(stego='stego_image.png', saveAs='recovered_secret_image.png'):\n",
        "  # Load the stego image\n",
        "  stego_image = Image.open(stego)\n",
        "\n",
        "  # Create a new image to hold the recovered secret image\n",
        "  secret_image = Image.new('RGB', stego_image.size)\n",
        "\n",
        "  # Get the pixel data for the stego image and the secret image\n",
        "  stego_data = stego_image.load()\n",
        "  secret_data = secret_image.load()\n",
        "\n",
        "  pxHideCount = 4\n",
        "  \n",
        "  # Iterate over each pixel in the secret image and recover the LSB from the stego image\n",
        "  for i in range(secret_image.size[0]):\n",
        "    for j in range(secret_image.size[1]):\n",
        "      stego_r, stego_g, stego_b = stego_data[i, j]\n",
        "      stego_r_bin = format(stego_r, '08b')\n",
        "      stego_g_bin = format(stego_g, '08b')\n",
        "      stego_b_bin = format(stego_b, '08b')\n",
        "      new_r_bin = stego_r_bin[pxHideCount:]*2\n",
        "      new_g_bin = stego_g_bin[pxHideCount:]*2\n",
        "      new_b_bin = stego_b_bin[pxHideCount:]*2\n",
        "      new_r = int(new_r_bin, 2)\n",
        "      new_g = int(new_g_bin, 2)\n",
        "      new_b = int(new_b_bin, 2)\n",
        "      secret_data[i, j] = (new_r, new_g, new_b)\n",
        "\n",
        "  # Save the recovered secret image\n",
        "  secret_image.save(saveAs)\n",
        "  return\n"
      ],
      "metadata": {
        "id": "xOHHapp0knFR"
      },
      "execution_count": 10,
      "outputs": []
    },
    {
      "cell_type": "markdown",
      "source": [
        "---"
      ],
      "metadata": {
        "id": "dKiXz8e41tum"
      }
    },
    {
      "cell_type": "code",
      "source": [
        "#!mkdir newPics\n",
        "#!mkdir secrets\n",
        "#!mkdir recovered\n",
        "\n",
        "!rm newPics/*\n",
        "!rm secrets/*\n",
        "!rm recovered/*"
      ],
      "metadata": {
        "id": "JmjQZr4xgwo4"
      },
      "execution_count": 8,
      "outputs": []
    },
    {
      "cell_type": "code",
      "source": [
        "def setSecret(cover,msg='Hi'):\n",
        "  SEED = 221000\n",
        "  for i in range(1,62):\n",
        "    count = str(SEED + i)\n",
        "    info = msg + ' ' + count + '!'\n",
        "    ###########################\n",
        "    picName = count + '.png'\n",
        "    fName = './newPics/' + picName\n",
        "    \n",
        "    # generating image\n",
        "    getImage(text=info, saveAs=fName)\n",
        "    # hiding secret\n",
        "    secretName = './secrets/' + picName\n",
        "    hideStegoLSB(cover=cover, secret=fName, saveAs=secretName)\n",
        "  return"
      ],
      "metadata": {
        "id": "2352ZRN0d2vA"
      },
      "execution_count": 18,
      "outputs": []
    },
    {
      "cell_type": "code",
      "source": [
        "# recover original\n",
        "def recoverPics(getFromDir='./newPics/', saveToDir='./recovered/'):\n",
        "  SEED = 221000\n",
        "  for i in range(1,62):\n",
        "    count = str(SEED + i)\n",
        "    picName = count + '.png'\n",
        "    ####\n",
        "    stego = getFromDir + picName\n",
        "    recName = saveToDir + picName\n",
        "    ####\n",
        "    recoverStegoLSB(stego,recName)\n",
        "  return"
      ],
      "metadata": {
        "id": "jvEG_ghey7V_"
      },
      "execution_count": 23,
      "outputs": []
    },
    {
      "cell_type": "markdown",
      "source": [
        "---"
      ],
      "metadata": {
        "id": "jy5YqgTr18bd"
      }
    },
    {
      "cell_type": "code",
      "source": [
        "# generate all pics\n",
        "# setSecret('./cover.jpg','Solved by')"
      ],
      "metadata": {
        "id": "JL1vQ19WvycH"
      },
      "execution_count": 19,
      "outputs": []
    },
    {
      "cell_type": "code",
      "source": [
        "recoverPics()"
      ],
      "metadata": {
        "id": "EI19IAu-05Fr"
      },
      "execution_count": 24,
      "outputs": []
    }
  ]
}