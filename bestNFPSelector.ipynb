{
  "nbformat": 4,
  "nbformat_minor": 0,
  "metadata": {
    "colab": {
      "name": "bestNFPSelector.ipynb",
      "provenance": [],
      "authorship_tag": "ABX9TyOI91fruQD0gOSZhXp/rbjo",
      "include_colab_link": true
    },
    "kernelspec": {
      "name": "python3",
      "display_name": "Python 3"
    },
    "language_info": {
      "name": "python"
    }
  },
  "cells": [
    {
      "cell_type": "markdown",
      "metadata": {
        "id": "view-in-github",
        "colab_type": "text"
      },
      "source": [
        "<a href=\"https://colab.research.google.com/github/ravi-prakash1907/A-tracking-of-COVID-19/blob/master/bestNFPSelector.ipynb\" target=\"_parent\"><img src=\"https://colab.research.google.com/assets/colab-badge.svg\" alt=\"Open In Colab\"/></a>"
      ]
    },
    {
      "cell_type": "markdown",
      "source": [
        "## Libraries"
      ],
      "metadata": {
        "id": "EkpmmUCeUsul"
      }
    },
    {
      "cell_type": "code",
      "execution_count": 1,
      "metadata": {
        "id": "Mflwsx1-SPKs"
      },
      "outputs": [],
      "source": [
        "### libraries\n",
        "#from PIL import Image,ImageOps\n",
        "#import os\n",
        "#import math\n",
        "#from statistics import mean\n",
        "#\n",
        "#import pandas as pd\n",
        "#import numpy as np\n",
        "#import pickle\n",
        "\n",
        "\n",
        "### for data processing\n",
        "import pandas as pd\n",
        "#import numpy as np\n",
        "#import os\n",
        "#from PIL import Image,ImageOps\n",
        "#\n",
        "### over sampling for training data balancing\n",
        "from math import sqrt\n",
        "#from matplotlib import pyplot\n",
        "#from numpy import where\n",
        "#\n",
        "### for getting data from g-drive\n",
        "from google.colab import drive\n",
        "#\n",
        "## Other Purpose\n",
        "#import warnings\n",
        "#warnings.filterwarnings('ignore')\n",
        "## own\n",
        "from configration import *"
      ]
    },
    {
      "cell_type": "code",
      "source": [
        "## GLOBALS\n",
        "DRIVE_MOUNT_SRC = None\n",
        "IMG_DIR_LOC = None\n",
        "\n",
        "g_setter = setGlobals('config.json') \n",
        "GLOBALS = g_setter.setGlobalVars()"
      ],
      "metadata": {
        "id": "MJdQBdTzU8sl"
      },
      "execution_count": 4,
      "outputs": []
    },
    {
      "cell_type": "markdown",
      "source": [
        "## ML Model Based Classification"
      ],
      "metadata": {
        "id": "3eoGUmKVauy3"
      }
    },
    {
      "cell_type": "markdown",
      "source": [
        "### Feature extractor class"
      ],
      "metadata": {
        "id": "mlGujZ8Wa5e8"
      }
    },
    {
      "cell_type": "code",
      "source": [
        "# take all necessary features"
      ],
      "metadata": {
        "id": "3z428og-byX9"
      },
      "execution_count": null,
      "outputs": []
    },
    {
      "cell_type": "markdown",
      "source": [
        "### FP Image & Model Loader and Predictor"
      ],
      "metadata": {
        "id": "zN4iFiftbyvH"
      }
    },
    {
      "cell_type": "code",
      "source": [
        "# get data:  from drive loc"
      ],
      "metadata": {
        "id": "R6MZ-BstcLDd"
      },
      "execution_count": 20,
      "outputs": []
    },
    {
      "cell_type": "code",
      "source": [
        "# models loaded"
      ],
      "metadata": {
        "id": "GQiW0nujcUQK"
      },
      "execution_count": 21,
      "outputs": []
    },
    {
      "cell_type": "code",
      "source": [
        "# export prediction + feature dataset"
      ],
      "metadata": {
        "id": "gP03JDbocZQy"
      },
      "execution_count": 22,
      "outputs": []
    },
    {
      "cell_type": "markdown",
      "source": [
        "## Choose Best N Pics"
      ],
      "metadata": {
        "id": "9L_sQtzSVngd"
      }
    },
    {
      "cell_type": "code",
      "source": [
        "class fpPrepare:\n",
        "  def __init__(self):\n",
        "    self.INT_NORM_FACTOR = int(sqrt(GLOBALS['DEC_NORM_FACTOR']))\n",
        "    pass\n",
        "  \n",
        "  ## sample collector\n",
        "  def getSamples(self, df: pd.core.frame.DataFrame, picLbl: int, sCount: int=GLOBALS['SAMPLE_COUNT']):\n",
        "    gotdf = df.copy()\n",
        "    ## normalize attr\n",
        "    COLS_TO_NORMALIZE = list(set(df.columns) - set(GLOBALS['COLS_NOT_TO_NORMALIZE']))\n",
        "    for col in COLS_TO_NORMALIZE:\n",
        "      sample = gotdf[col][GLOBALS['INIT_INDEX']]\n",
        "      if int(sample):\n",
        "        gotdf[col] = round(gotdf[col]//self.INT_NORM_FACTOR)*self.INT_NORM_FACTOR\n",
        "      else:\n",
        "        gotdf[col] = round(gotdf[col]*GLOBALS['DEC_NORM_FACTOR'])/GLOBALS['DEC_NORM_FACTOR']\n",
        "    \n",
        "    gotdf = gotdf.sort_values(by = GLOBALS['COL_PRIORITY'])\n",
        "    begIndex = GLOBALS['INIT_INDEX']\n",
        "    \n",
        "    reqImagePool = gotdf[gotdf[GLOBALS['LBL_COL']] == picLbl]\n",
        "    reqImgCount = reqImagePool.shape[GLOBALS['INIT_INDEX']]\n",
        "    sCount = sCount if sCount < reqImgCount else reqImgCount-1\n",
        "\n",
        "    sampleDFs = reqImagePool[begIndex:begIndex+sCount]\n",
        "    reqImages = sampleDFs\n",
        "    return reqImages\n",
        "\n",
        "\n",
        "  ## common part extractor\n",
        "  def fetchCommon(self, pxlImgList: list):\n",
        "    fpShape = pxlImgList[GLOBALS['INIT_INDEX']].shape\n",
        "    pxlPosTracker = np.zeros(shape=fpShape, dtype=GLOBALS['DEFAULT_ENCODING']) \n",
        "\n",
        "    rows, cols = fpShape\n",
        "    totalPix = len(pxlImgList)\n",
        "    for r in range(rows):\n",
        "      for c in range(cols):\n",
        "        thisPosVals = [pxlImgList[i][r][c] \n",
        "                          for i in range(totalPix)]\n",
        "        ## bring normalizing at scale of self.INT_NORM_FACTOR by default\n",
        "        thisPosVals = [px//self.INT_NORM_FACTOR*self.INT_NORM_FACTOR for px in thisPosVals]\n",
        "        thisPosVals = set(thisPosVals)\n",
        "        if len(thisPosVals) > GLOBALS['TRUE']:\n",
        "          continue\n",
        "        else:\n",
        "          pxlPosTracker[r][c] = GLOBALS['TRUE']\n",
        "        \n",
        "    return pxlPosTracker"
      ],
      "metadata": {
        "id": "E-XlR5aTU_6u"
      },
      "execution_count": 5,
      "outputs": []
    },
    {
      "cell_type": "code",
      "source": [
        "LABELLED_DATA_LOC\n",
        "DEC_NORM_FACTOR\n",
        "SAMPLE_COUNT\n",
        "COLS_NOT_TO_NORMALIZE\n",
        "INIT_INDEX\n",
        "DROP_COLS\n",
        "\n",
        "COL_PRIORITY\n",
        "INIT_INDEX\n",
        "DEFAULT_ENCODING\n",
        "TRUE\n",
        "BEST_LBL"
      ],
      "metadata": {
        "id": "jx27VP1bAKXd"
      },
      "execution_count": null,
      "outputs": []
    },
    {
      "cell_type": "markdown",
      "source": [
        "## Application"
      ],
      "metadata": {
        "id": "GFcGFPZEXJ_t"
      }
    },
    {
      "cell_type": "code",
      "source": [
        "## init obj\n",
        "thisPrep = fpPrepare()"
      ],
      "metadata": {
        "id": "zZbZas3tVrwf"
      },
      "execution_count": 6,
      "outputs": []
    },
    {
      "cell_type": "code",
      "source": [
        "dataLoc = GLOBALS['LABELLED_DATA_LOC']\n",
        "## load labelled dataset\n",
        "labelledFP = pd.read_csv(dataLoc)\n",
        "labelledFP.drop(columns=GLOBALS['DROP_COLS'], inplace=True)"
      ],
      "metadata": {
        "id": "W0bX8o8y-BEw"
      },
      "execution_count": 9,
      "outputs": []
    },
    {
      "cell_type": "code",
      "source": [
        "# getting best n inmages\n",
        "reqImg = thisPrep.getSamples(labelledFP, picLbl=GLOBALS['BEST_LBL'])\n",
        "reqImg "
      ],
      "metadata": {
        "colab": {
          "base_uri": "https://localhost:8080/",
          "height": 427
        },
        "id": "fuUlwTJgXOMv",
        "outputId": "2611dfdf-1872-410d-c09f-4c0ddd0d43bc"
      },
      "execution_count": 12,
      "outputs": [
        {
          "output_type": "execute_result",
          "data": {
            "text/plain": [
              "       image_name   mean  variance  avg_bdd  avg_rtovratio  SqSum_RVRatio  \\\n",
              "226  00009_48.bmp  110.0    9910.0     1100           0.40             80   \n",
              "219  00009_16.bmp  120.0   10360.0     1030           0.42             90   \n",
              "100  00004_19.bmp  130.0   10980.0     1540           0.29            100   \n",
              "65   00002_46.bmp  130.0   11080.0     1430           0.28            100   \n",
              "64   00002_44.bmp  130.0   11100.0     1280           0.28            100   \n",
              "104  00004_36.bmp  130.0   11110.0     1160           0.33            100   \n",
              "34   00001_05.bmp  130.0   11170.0     1010           0.39            140   \n",
              "33   00001_04.bmp  130.0   11240.0     1000           0.33            100   \n",
              "61   00002_24.bmp  130.0   11460.0     1540           0.18             50   \n",
              "50   00001_67.bmp  130.0   11580.0     1250           0.20             70   \n",
              "\n",
              "     avg_Orientation  label  \n",
              "226            220.0      1  \n",
              "219            190.0      1  \n",
              "100            200.0      1  \n",
              "65             190.0      1  \n",
              "64             200.0      1  \n",
              "104            190.0      1  \n",
              "34             190.0      1  \n",
              "33             190.0      1  \n",
              "61             190.0      1  \n",
              "50             200.0      1  "
            ],
            "text/html": [
              "\n",
              "  <div id=\"df-4f704df6-cf16-41fd-b09c-6a88dd670e90\">\n",
              "    <div class=\"colab-df-container\">\n",
              "      <div>\n",
              "<style scoped>\n",
              "    .dataframe tbody tr th:only-of-type {\n",
              "        vertical-align: middle;\n",
              "    }\n",
              "\n",
              "    .dataframe tbody tr th {\n",
              "        vertical-align: top;\n",
              "    }\n",
              "\n",
              "    .dataframe thead th {\n",
              "        text-align: right;\n",
              "    }\n",
              "</style>\n",
              "<table border=\"1\" class=\"dataframe\">\n",
              "  <thead>\n",
              "    <tr style=\"text-align: right;\">\n",
              "      <th></th>\n",
              "      <th>image_name</th>\n",
              "      <th>mean</th>\n",
              "      <th>variance</th>\n",
              "      <th>avg_bdd</th>\n",
              "      <th>avg_rtovratio</th>\n",
              "      <th>SqSum_RVRatio</th>\n",
              "      <th>avg_Orientation</th>\n",
              "      <th>label</th>\n",
              "    </tr>\n",
              "  </thead>\n",
              "  <tbody>\n",
              "    <tr>\n",
              "      <th>226</th>\n",
              "      <td>00009_48.bmp</td>\n",
              "      <td>110.0</td>\n",
              "      <td>9910.0</td>\n",
              "      <td>1100</td>\n",
              "      <td>0.40</td>\n",
              "      <td>80</td>\n",
              "      <td>220.0</td>\n",
              "      <td>1</td>\n",
              "    </tr>\n",
              "    <tr>\n",
              "      <th>219</th>\n",
              "      <td>00009_16.bmp</td>\n",
              "      <td>120.0</td>\n",
              "      <td>10360.0</td>\n",
              "      <td>1030</td>\n",
              "      <td>0.42</td>\n",
              "      <td>90</td>\n",
              "      <td>190.0</td>\n",
              "      <td>1</td>\n",
              "    </tr>\n",
              "    <tr>\n",
              "      <th>100</th>\n",
              "      <td>00004_19.bmp</td>\n",
              "      <td>130.0</td>\n",
              "      <td>10980.0</td>\n",
              "      <td>1540</td>\n",
              "      <td>0.29</td>\n",
              "      <td>100</td>\n",
              "      <td>200.0</td>\n",
              "      <td>1</td>\n",
              "    </tr>\n",
              "    <tr>\n",
              "      <th>65</th>\n",
              "      <td>00002_46.bmp</td>\n",
              "      <td>130.0</td>\n",
              "      <td>11080.0</td>\n",
              "      <td>1430</td>\n",
              "      <td>0.28</td>\n",
              "      <td>100</td>\n",
              "      <td>190.0</td>\n",
              "      <td>1</td>\n",
              "    </tr>\n",
              "    <tr>\n",
              "      <th>64</th>\n",
              "      <td>00002_44.bmp</td>\n",
              "      <td>130.0</td>\n",
              "      <td>11100.0</td>\n",
              "      <td>1280</td>\n",
              "      <td>0.28</td>\n",
              "      <td>100</td>\n",
              "      <td>200.0</td>\n",
              "      <td>1</td>\n",
              "    </tr>\n",
              "    <tr>\n",
              "      <th>104</th>\n",
              "      <td>00004_36.bmp</td>\n",
              "      <td>130.0</td>\n",
              "      <td>11110.0</td>\n",
              "      <td>1160</td>\n",
              "      <td>0.33</td>\n",
              "      <td>100</td>\n",
              "      <td>190.0</td>\n",
              "      <td>1</td>\n",
              "    </tr>\n",
              "    <tr>\n",
              "      <th>34</th>\n",
              "      <td>00001_05.bmp</td>\n",
              "      <td>130.0</td>\n",
              "      <td>11170.0</td>\n",
              "      <td>1010</td>\n",
              "      <td>0.39</td>\n",
              "      <td>140</td>\n",
              "      <td>190.0</td>\n",
              "      <td>1</td>\n",
              "    </tr>\n",
              "    <tr>\n",
              "      <th>33</th>\n",
              "      <td>00001_04.bmp</td>\n",
              "      <td>130.0</td>\n",
              "      <td>11240.0</td>\n",
              "      <td>1000</td>\n",
              "      <td>0.33</td>\n",
              "      <td>100</td>\n",
              "      <td>190.0</td>\n",
              "      <td>1</td>\n",
              "    </tr>\n",
              "    <tr>\n",
              "      <th>61</th>\n",
              "      <td>00002_24.bmp</td>\n",
              "      <td>130.0</td>\n",
              "      <td>11460.0</td>\n",
              "      <td>1540</td>\n",
              "      <td>0.18</td>\n",
              "      <td>50</td>\n",
              "      <td>190.0</td>\n",
              "      <td>1</td>\n",
              "    </tr>\n",
              "    <tr>\n",
              "      <th>50</th>\n",
              "      <td>00001_67.bmp</td>\n",
              "      <td>130.0</td>\n",
              "      <td>11580.0</td>\n",
              "      <td>1250</td>\n",
              "      <td>0.20</td>\n",
              "      <td>70</td>\n",
              "      <td>200.0</td>\n",
              "      <td>1</td>\n",
              "    </tr>\n",
              "  </tbody>\n",
              "</table>\n",
              "</div>\n",
              "      <button class=\"colab-df-convert\" onclick=\"convertToInteractive('df-4f704df6-cf16-41fd-b09c-6a88dd670e90')\"\n",
              "              title=\"Convert this dataframe to an interactive table.\"\n",
              "              style=\"display:none;\">\n",
              "        \n",
              "  <svg xmlns=\"http://www.w3.org/2000/svg\" height=\"24px\"viewBox=\"0 0 24 24\"\n",
              "       width=\"24px\">\n",
              "    <path d=\"M0 0h24v24H0V0z\" fill=\"none\"/>\n",
              "    <path d=\"M18.56 5.44l.94 2.06.94-2.06 2.06-.94-2.06-.94-.94-2.06-.94 2.06-2.06.94zm-11 1L8.5 8.5l.94-2.06 2.06-.94-2.06-.94L8.5 2.5l-.94 2.06-2.06.94zm10 10l.94 2.06.94-2.06 2.06-.94-2.06-.94-.94-2.06-.94 2.06-2.06.94z\"/><path d=\"M17.41 7.96l-1.37-1.37c-.4-.4-.92-.59-1.43-.59-.52 0-1.04.2-1.43.59L10.3 9.45l-7.72 7.72c-.78.78-.78 2.05 0 2.83L4 21.41c.39.39.9.59 1.41.59.51 0 1.02-.2 1.41-.59l7.78-7.78 2.81-2.81c.8-.78.8-2.07 0-2.86zM5.41 20L4 18.59l7.72-7.72 1.47 1.35L5.41 20z\"/>\n",
              "  </svg>\n",
              "      </button>\n",
              "      \n",
              "  <style>\n",
              "    .colab-df-container {\n",
              "      display:flex;\n",
              "      flex-wrap:wrap;\n",
              "      gap: 12px;\n",
              "    }\n",
              "\n",
              "    .colab-df-convert {\n",
              "      background-color: #E8F0FE;\n",
              "      border: none;\n",
              "      border-radius: 50%;\n",
              "      cursor: pointer;\n",
              "      display: none;\n",
              "      fill: #1967D2;\n",
              "      height: 32px;\n",
              "      padding: 0 0 0 0;\n",
              "      width: 32px;\n",
              "    }\n",
              "\n",
              "    .colab-df-convert:hover {\n",
              "      background-color: #E2EBFA;\n",
              "      box-shadow: 0px 1px 2px rgba(60, 64, 67, 0.3), 0px 1px 3px 1px rgba(60, 64, 67, 0.15);\n",
              "      fill: #174EA6;\n",
              "    }\n",
              "\n",
              "    [theme=dark] .colab-df-convert {\n",
              "      background-color: #3B4455;\n",
              "      fill: #D2E3FC;\n",
              "    }\n",
              "\n",
              "    [theme=dark] .colab-df-convert:hover {\n",
              "      background-color: #434B5C;\n",
              "      box-shadow: 0px 1px 3px 1px rgba(0, 0, 0, 0.15);\n",
              "      filter: drop-shadow(0px 1px 2px rgba(0, 0, 0, 0.3));\n",
              "      fill: #FFFFFF;\n",
              "    }\n",
              "  </style>\n",
              "\n",
              "      <script>\n",
              "        const buttonEl =\n",
              "          document.querySelector('#df-4f704df6-cf16-41fd-b09c-6a88dd670e90 button.colab-df-convert');\n",
              "        buttonEl.style.display =\n",
              "          google.colab.kernel.accessAllowed ? 'block' : 'none';\n",
              "\n",
              "        async function convertToInteractive(key) {\n",
              "          const element = document.querySelector('#df-4f704df6-cf16-41fd-b09c-6a88dd670e90');\n",
              "          const dataTable =\n",
              "            await google.colab.kernel.invokeFunction('convertToInteractive',\n",
              "                                                     [key], {});\n",
              "          if (!dataTable) return;\n",
              "\n",
              "          const docLinkHtml = 'Like what you see? Visit the ' +\n",
              "            '<a target=\"_blank\" href=https://colab.research.google.com/notebooks/data_table.ipynb>data table notebook</a>'\n",
              "            + ' to learn more about interactive tables.';\n",
              "          element.innerHTML = '';\n",
              "          dataTable['output_type'] = 'display_data';\n",
              "          await google.colab.output.renderOutput(dataTable, element);\n",
              "          const docLink = document.createElement('div');\n",
              "          docLink.innerHTML = docLinkHtml;\n",
              "          element.appendChild(docLink);\n",
              "        }\n",
              "      </script>\n",
              "    </div>\n",
              "  </div>\n",
              "  "
            ]
          },
          "metadata": {},
          "execution_count": 12
        }
      ]
    },
    {
      "cell_type": "code",
      "source": [
        ""
      ],
      "metadata": {
        "id": "39NXn1hZ_jRO"
      },
      "execution_count": null,
      "outputs": []
    }
  ]
}