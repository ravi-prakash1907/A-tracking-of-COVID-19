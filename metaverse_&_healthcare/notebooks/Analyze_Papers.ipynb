{
  "nbformat": 4,
  "nbformat_minor": 0,
  "metadata": {
    "colab": {
      "provenance": [],
      "authorship_tag": "ABX9TyPkcLTmgaWRAnR+CrCSN36p",
      "include_colab_link": true
    },
    "kernelspec": {
      "name": "python3",
      "display_name": "Python 3"
    },
    "language_info": {
      "name": "python"
    }
  },
  "cells": [
    {
      "cell_type": "markdown",
      "metadata": {
        "id": "view-in-github",
        "colab_type": "text"
      },
      "source": [
        "<a href=\"https://colab.research.google.com/github/ravi-prakash1907/A-tracking-of-COVID-19/blob/master/metaverse_%26_healthcare/notebooks/Analyze_Papers.ipynb\" target=\"_parent\"><img src=\"https://colab.research.google.com/assets/colab-badge.svg\" alt=\"Open In Colab\"/></a>"
      ]
    },
    {
      "cell_type": "markdown",
      "source": [
        "# Analysing Metaverse Papers"
      ],
      "metadata": {
        "id": "AusX107rIdbg"
      }
    },
    {
      "cell_type": "code",
      "execution_count": 1,
      "metadata": {
        "id": "Ihaf5L4nIcxS"
      },
      "outputs": [],
      "source": [
        "import pandas as pd\n",
        "import numpy as np\n",
        "\n",
        "import seaborn as sns\n",
        "import matplotlib.pyplot as plt"
      ]
    },
    {
      "cell_type": "code",
      "source": [
        "# constants\n",
        "dfLoc = \"https://raw.githubusercontent.com/ravi-prakash1907/metaverse_in_healthcare/main/metaverse_%26_healthcare/dataset/categorized/metverseTitled_scopusPapers.csv?token=GHSAT0AAAAAAB5NKIJY57ZRD76NYEQCUXPOY7M2VEQ\""
      ],
      "metadata": {
        "id": "zpLGaL4CIudf"
      },
      "execution_count": 2,
      "outputs": []
    },
    {
      "cell_type": "code",
      "source": [
        "# data fetching\n",
        "df = pd.read_csv(dfLoc)\n",
        "print(\"Shape:\",df.shape)"
      ],
      "metadata": {
        "colab": {
          "base_uri": "https://localhost:8080/"
        },
        "id": "AeVHz8R1I2rv",
        "outputId": "3355e313-d29c-4785-b2c2-b1d782bc2cb1"
      },
      "execution_count": 3,
      "outputs": [
        {
          "output_type": "stream",
          "name": "stdout",
          "text": [
            "Shape: (67, 11)\n"
          ]
        }
      ]
    },
    {
      "cell_type": "code",
      "source": [
        "# adding years' columns\n",
        "df.cover_date = pd.to_datetime(df.cover_date)\n",
        "years = []\n",
        "for date in df.cover_date:\n",
        "  years.append(date.year)\n",
        "# new col\n",
        "df['year'] = years\n",
        "colNewNames = ['scopus_id','year']\n",
        "colNewNames.extend(list(df.columns[1:-1]))\n",
        "#reorder\n",
        "df = df[colNewNames]"
      ],
      "metadata": {
        "id": "iOGa9UdBYk3Z"
      },
      "execution_count": 4,
      "outputs": []
    },
    {
      "cell_type": "code",
      "source": [
        "print(\"Shape:\",df.shape)\n",
        "df.head()"
      ],
      "metadata": {
        "colab": {
          "base_uri": "https://localhost:8080/",
          "height": 476
        },
        "id": "t5pSOPCSb6sQ",
        "outputId": "0afa921b-4e9b-4bff-faa4-2d00ced26a8f"
      },
      "execution_count": 5,
      "outputs": [
        {
          "output_type": "stream",
          "name": "stdout",
          "text": [
            "Shape: (67, 12)\n"
          ]
        },
        {
          "output_type": "execute_result",
          "data": {
            "text/plain": [
              "               scopus_id  year cover_date  \\\n",
              "0  scopus_id:85146563507  2023 2023-01-01   \n",
              "1  scopus_id:85147119905  2022 2022-12-01   \n",
              "2  scopus_id:85142834431  2022 2022-12-01   \n",
              "3  scopus_id:85128455231  2022 2022-05-01   \n",
              "4  scopus_id:85109259714  2022 2022-02-01   \n",
              "\n",
              "                                               title sub_type  cite_count  \\\n",
              "0  virtual reality relaxation for people with men...   review           0   \n",
              "1  highlighting effects of flipped learning on me...  article           0   \n",
              "2  effects of virtual reality-based interventions...   review           0   \n",
              "3  automated virtual reality therapy to treat ago...  article          13   \n",
              "4  the impact of virtual reality exposure on stre...  article           0   \n",
              "\n",
              "  first_author                                     publication     type  \\\n",
              "0    riches s.  social psychiatry and psychiatric epidemiology  journal   \n",
              "1       guo b.             american journal of health behavior  journal   \n",
              "2        li g.        international journal of nursing studies  journal   \n",
              "3   freeman d.                           the lancet psychiatry  journal   \n",
              "4  chaabane s.                     journal of traumatic stress  journal   \n",
              "\n",
              "          country                             doi  \\\n",
              "0  united kingdom      10.1007/s00127-022-02417-5   \n",
              "1           china            10.5993/ajhb.46.6.11   \n",
              "2           china  10.1016/j.ijnurstu.2022.104378   \n",
              "3  united kingdom   10.1016/s2215-0366(22)00060-8   \n",
              "4         belgium               10.1002/jts.22690   \n",
              "\n",
              "                                                 url  \n",
              "0  https://www.scopus.com/inward/record.uri?partn...  \n",
              "1  https://www.scopus.com/inward/record.uri?partn...  \n",
              "2  https://www.scopus.com/inward/record.uri?partn...  \n",
              "3  https://www.scopus.com/inward/record.uri?partn...  \n",
              "4  https://www.scopus.com/inward/record.uri?partn...  "
            ],
            "text/html": [
              "\n",
              "  <div id=\"df-6807ee74-c1a2-45b0-9b6a-c5cd470bbd1a\">\n",
              "    <div class=\"colab-df-container\">\n",
              "      <div>\n",
              "<style scoped>\n",
              "    .dataframe tbody tr th:only-of-type {\n",
              "        vertical-align: middle;\n",
              "    }\n",
              "\n",
              "    .dataframe tbody tr th {\n",
              "        vertical-align: top;\n",
              "    }\n",
              "\n",
              "    .dataframe thead th {\n",
              "        text-align: right;\n",
              "    }\n",
              "</style>\n",
              "<table border=\"1\" class=\"dataframe\">\n",
              "  <thead>\n",
              "    <tr style=\"text-align: right;\">\n",
              "      <th></th>\n",
              "      <th>scopus_id</th>\n",
              "      <th>year</th>\n",
              "      <th>cover_date</th>\n",
              "      <th>title</th>\n",
              "      <th>sub_type</th>\n",
              "      <th>cite_count</th>\n",
              "      <th>first_author</th>\n",
              "      <th>publication</th>\n",
              "      <th>type</th>\n",
              "      <th>country</th>\n",
              "      <th>doi</th>\n",
              "      <th>url</th>\n",
              "    </tr>\n",
              "  </thead>\n",
              "  <tbody>\n",
              "    <tr>\n",
              "      <th>0</th>\n",
              "      <td>scopus_id:85146563507</td>\n",
              "      <td>2023</td>\n",
              "      <td>2023-01-01</td>\n",
              "      <td>virtual reality relaxation for people with men...</td>\n",
              "      <td>review</td>\n",
              "      <td>0</td>\n",
              "      <td>riches s.</td>\n",
              "      <td>social psychiatry and psychiatric epidemiology</td>\n",
              "      <td>journal</td>\n",
              "      <td>united kingdom</td>\n",
              "      <td>10.1007/s00127-022-02417-5</td>\n",
              "      <td>https://www.scopus.com/inward/record.uri?partn...</td>\n",
              "    </tr>\n",
              "    <tr>\n",
              "      <th>1</th>\n",
              "      <td>scopus_id:85147119905</td>\n",
              "      <td>2022</td>\n",
              "      <td>2022-12-01</td>\n",
              "      <td>highlighting effects of flipped learning on me...</td>\n",
              "      <td>article</td>\n",
              "      <td>0</td>\n",
              "      <td>guo b.</td>\n",
              "      <td>american journal of health behavior</td>\n",
              "      <td>journal</td>\n",
              "      <td>china</td>\n",
              "      <td>10.5993/ajhb.46.6.11</td>\n",
              "      <td>https://www.scopus.com/inward/record.uri?partn...</td>\n",
              "    </tr>\n",
              "    <tr>\n",
              "      <th>2</th>\n",
              "      <td>scopus_id:85142834431</td>\n",
              "      <td>2022</td>\n",
              "      <td>2022-12-01</td>\n",
              "      <td>effects of virtual reality-based interventions...</td>\n",
              "      <td>review</td>\n",
              "      <td>0</td>\n",
              "      <td>li g.</td>\n",
              "      <td>international journal of nursing studies</td>\n",
              "      <td>journal</td>\n",
              "      <td>china</td>\n",
              "      <td>10.1016/j.ijnurstu.2022.104378</td>\n",
              "      <td>https://www.scopus.com/inward/record.uri?partn...</td>\n",
              "    </tr>\n",
              "    <tr>\n",
              "      <th>3</th>\n",
              "      <td>scopus_id:85128455231</td>\n",
              "      <td>2022</td>\n",
              "      <td>2022-05-01</td>\n",
              "      <td>automated virtual reality therapy to treat ago...</td>\n",
              "      <td>article</td>\n",
              "      <td>13</td>\n",
              "      <td>freeman d.</td>\n",
              "      <td>the lancet psychiatry</td>\n",
              "      <td>journal</td>\n",
              "      <td>united kingdom</td>\n",
              "      <td>10.1016/s2215-0366(22)00060-8</td>\n",
              "      <td>https://www.scopus.com/inward/record.uri?partn...</td>\n",
              "    </tr>\n",
              "    <tr>\n",
              "      <th>4</th>\n",
              "      <td>scopus_id:85109259714</td>\n",
              "      <td>2022</td>\n",
              "      <td>2022-02-01</td>\n",
              "      <td>the impact of virtual reality exposure on stre...</td>\n",
              "      <td>article</td>\n",
              "      <td>0</td>\n",
              "      <td>chaabane s.</td>\n",
              "      <td>journal of traumatic stress</td>\n",
              "      <td>journal</td>\n",
              "      <td>belgium</td>\n",
              "      <td>10.1002/jts.22690</td>\n",
              "      <td>https://www.scopus.com/inward/record.uri?partn...</td>\n",
              "    </tr>\n",
              "  </tbody>\n",
              "</table>\n",
              "</div>\n",
              "      <button class=\"colab-df-convert\" onclick=\"convertToInteractive('df-6807ee74-c1a2-45b0-9b6a-c5cd470bbd1a')\"\n",
              "              title=\"Convert this dataframe to an interactive table.\"\n",
              "              style=\"display:none;\">\n",
              "        \n",
              "  <svg xmlns=\"http://www.w3.org/2000/svg\" height=\"24px\"viewBox=\"0 0 24 24\"\n",
              "       width=\"24px\">\n",
              "    <path d=\"M0 0h24v24H0V0z\" fill=\"none\"/>\n",
              "    <path d=\"M18.56 5.44l.94 2.06.94-2.06 2.06-.94-2.06-.94-.94-2.06-.94 2.06-2.06.94zm-11 1L8.5 8.5l.94-2.06 2.06-.94-2.06-.94L8.5 2.5l-.94 2.06-2.06.94zm10 10l.94 2.06.94-2.06 2.06-.94-2.06-.94-.94-2.06-.94 2.06-2.06.94z\"/><path d=\"M17.41 7.96l-1.37-1.37c-.4-.4-.92-.59-1.43-.59-.52 0-1.04.2-1.43.59L10.3 9.45l-7.72 7.72c-.78.78-.78 2.05 0 2.83L4 21.41c.39.39.9.59 1.41.59.51 0 1.02-.2 1.41-.59l7.78-7.78 2.81-2.81c.8-.78.8-2.07 0-2.86zM5.41 20L4 18.59l7.72-7.72 1.47 1.35L5.41 20z\"/>\n",
              "  </svg>\n",
              "      </button>\n",
              "      \n",
              "  <style>\n",
              "    .colab-df-container {\n",
              "      display:flex;\n",
              "      flex-wrap:wrap;\n",
              "      gap: 12px;\n",
              "    }\n",
              "\n",
              "    .colab-df-convert {\n",
              "      background-color: #E8F0FE;\n",
              "      border: none;\n",
              "      border-radius: 50%;\n",
              "      cursor: pointer;\n",
              "      display: none;\n",
              "      fill: #1967D2;\n",
              "      height: 32px;\n",
              "      padding: 0 0 0 0;\n",
              "      width: 32px;\n",
              "    }\n",
              "\n",
              "    .colab-df-convert:hover {\n",
              "      background-color: #E2EBFA;\n",
              "      box-shadow: 0px 1px 2px rgba(60, 64, 67, 0.3), 0px 1px 3px 1px rgba(60, 64, 67, 0.15);\n",
              "      fill: #174EA6;\n",
              "    }\n",
              "\n",
              "    [theme=dark] .colab-df-convert {\n",
              "      background-color: #3B4455;\n",
              "      fill: #D2E3FC;\n",
              "    }\n",
              "\n",
              "    [theme=dark] .colab-df-convert:hover {\n",
              "      background-color: #434B5C;\n",
              "      box-shadow: 0px 1px 3px 1px rgba(0, 0, 0, 0.15);\n",
              "      filter: drop-shadow(0px 1px 2px rgba(0, 0, 0, 0.3));\n",
              "      fill: #FFFFFF;\n",
              "    }\n",
              "  </style>\n",
              "\n",
              "      <script>\n",
              "        const buttonEl =\n",
              "          document.querySelector('#df-6807ee74-c1a2-45b0-9b6a-c5cd470bbd1a button.colab-df-convert');\n",
              "        buttonEl.style.display =\n",
              "          google.colab.kernel.accessAllowed ? 'block' : 'none';\n",
              "\n",
              "        async function convertToInteractive(key) {\n",
              "          const element = document.querySelector('#df-6807ee74-c1a2-45b0-9b6a-c5cd470bbd1a');\n",
              "          const dataTable =\n",
              "            await google.colab.kernel.invokeFunction('convertToInteractive',\n",
              "                                                     [key], {});\n",
              "          if (!dataTable) return;\n",
              "\n",
              "          const docLinkHtml = 'Like what you see? Visit the ' +\n",
              "            '<a target=\"_blank\" href=https://colab.research.google.com/notebooks/data_table.ipynb>data table notebook</a>'\n",
              "            + ' to learn more about interactive tables.';\n",
              "          element.innerHTML = '';\n",
              "          dataTable['output_type'] = 'display_data';\n",
              "          await google.colab.output.renderOutput(dataTable, element);\n",
              "          const docLink = document.createElement('div');\n",
              "          docLink.innerHTML = docLinkHtml;\n",
              "          element.appendChild(docLink);\n",
              "        }\n",
              "      </script>\n",
              "    </div>\n",
              "  </div>\n",
              "  "
            ]
          },
          "metadata": {},
          "execution_count": 5
        }
      ]
    },
    {
      "cell_type": "code",
      "source": [
        "df.info()"
      ],
      "metadata": {
        "colab": {
          "base_uri": "https://localhost:8080/"
        },
        "id": "L1oBAtv7cXSR",
        "outputId": "2c13b0f1-e931-48fd-fbac-b9bb484b91be"
      },
      "execution_count": 6,
      "outputs": [
        {
          "output_type": "stream",
          "name": "stdout",
          "text": [
            "<class 'pandas.core.frame.DataFrame'>\n",
            "RangeIndex: 67 entries, 0 to 66\n",
            "Data columns (total 12 columns):\n",
            " #   Column        Non-Null Count  Dtype         \n",
            "---  ------        --------------  -----         \n",
            " 0   scopus_id     67 non-null     object        \n",
            " 1   year          67 non-null     int64         \n",
            " 2   cover_date    67 non-null     datetime64[ns]\n",
            " 3   title         67 non-null     object        \n",
            " 4   sub_type      67 non-null     object        \n",
            " 5   cite_count    67 non-null     int64         \n",
            " 6   first_author  67 non-null     object        \n",
            " 7   publication   67 non-null     object        \n",
            " 8   type          67 non-null     object        \n",
            " 9   country       67 non-null     object        \n",
            " 10  doi           67 non-null     object        \n",
            " 11  url           67 non-null     object        \n",
            "dtypes: datetime64[ns](1), int64(2), object(9)\n",
            "memory usage: 6.4+ KB\n"
          ]
        }
      ]
    },
    {
      "cell_type": "markdown",
      "source": [
        "---"
      ],
      "metadata": {
        "id": "YuRUDETHJBHv"
      }
    },
    {
      "cell_type": "markdown",
      "source": [
        "#### Important Functions"
      ],
      "metadata": {
        "id": "z28ABm2bYfJR"
      }
    },
    {
      "cell_type": "code",
      "source": [
        "def freqCounter(gotDF, aggrOnCol):\n",
        "  cols,counts = [],[]\n",
        "  uniqueVals = gotDF[aggrOnCol]#.unique()\n",
        "  # iterating through values\n",
        "  for col in set(uniqueVals):\n",
        "    #print(col)\n",
        "    cols.append(col)\n",
        "    counts.append(sum(uniqueVals == col))\n",
        "  # creating df\n",
        "  tempDF = pd.DataFrame()\n",
        "  tempDF[aggrOnCol] = cols\n",
        "  tempDF['totalPub'] = counts\n",
        "  # returning results\n",
        "  tempDF.sort_values(by='totalPub', axis=0, inplace=True, ascending=False)\n",
        "  tempDF.reset_index(drop=True, inplace=True)\n",
        "  return tempDF"
      ],
      "metadata": {
        "id": "9gpqEIl7R2fe"
      },
      "execution_count": 7,
      "outputs": []
    },
    {
      "cell_type": "markdown",
      "source": [
        "### Splitting Dataset"
      ],
      "metadata": {
        "id": "06QdsMTASnz2"
      }
    },
    {
      "cell_type": "code",
      "source": [
        "# article with doi\n",
        "doiArtDF = df[df['doi'] != 'no_doi']\n",
        "print(\"Total data with valid doi:  \",doiArtDF.shape[0])\n",
        "\n",
        "# article with doi\n",
        "no_doiArtDF = df[df['doi'] == 'no_doi']\n",
        "print(\"Total data without valid doi:  \",no_doiArtDF.shape[0])"
      ],
      "metadata": {
        "colab": {
          "base_uri": "https://localhost:8080/"
        },
        "id": "EtWKz3J4I_-u",
        "outputId": "ddb05276-1a34-48c7-f4da-55eb3a4e1634"
      },
      "execution_count": 8,
      "outputs": [
        {
          "output_type": "stream",
          "name": "stdout",
          "text": [
            "Total data with valid doi:   62\n",
            "Total data without valid doi:   5\n"
          ]
        }
      ]
    },
    {
      "cell_type": "code",
      "source": [
        "# articles after 2019\n",
        "latestArtDF = df[df['year'] > 2019]\n",
        "print(\"Total papers published after 2019:  \",latestArtDF.shape[0])\n",
        "\n",
        "# articles between [2017,2019]\n",
        "tempDF = df[df['year'] <= 2019]\n",
        "newArtDF = tempDF[tempDF['year'] > 2016]\n",
        "print(\"Total papers published between 2017 and 2019:  \",newArtDF.shape[0])\n",
        "\n",
        "# articles before 2019\n",
        "oldArtDF = df[df['year'] <= 2016]\n",
        "print(\"Total papers published till 2016:  \",oldArtDF.shape[0])"
      ],
      "metadata": {
        "colab": {
          "base_uri": "https://localhost:8080/"
        },
        "id": "pzckZcRYcQKo",
        "outputId": "75f4583b-1ec9-4437-f3f2-0e2c0b92f3fc"
      },
      "execution_count": 9,
      "outputs": [
        {
          "output_type": "stream",
          "name": "stdout",
          "text": [
            "Total papers published after 2019:   23\n",
            "Total papers published between 2017 and 2019:   20\n",
            "Total papers published till 2016:   24\n"
          ]
        }
      ]
    },
    {
      "cell_type": "code",
      "source": [
        "### exporting\n",
        "latestArtDF.to_csv(\"latestArticles.csv\", index=False)\n",
        "newArtDF.to_csv(\"newArticles.csv\", index=False)\n",
        "oldArtDF.to_csv(\"oldArticles.csv\", index=False)"
      ],
      "metadata": {
        "id": "_UdIHhHxeSH3"
      },
      "execution_count": 10,
      "outputs": []
    },
    {
      "cell_type": "markdown",
      "source": [
        "### Visualization"
      ],
      "metadata": {
        "id": "djTr_J1JQr7X"
      }
    },
    {
      "cell_type": "markdown",
      "source": [
        "#### Functions"
      ],
      "metadata": {
        "id": "Tfr091AnQwIA"
      }
    },
    {
      "cell_type": "code",
      "source": [
        "# possible catagorical vars.\n",
        "catagoricals = dict({'sub_type':\"Submission Type\", 'publication': \"Name of Publisher\", 'type': \"Publication Type\", 'country': \"Country\"})"
      ],
      "metadata": {
        "id": "NRTr_U7ERHan"
      },
      "execution_count": 11,
      "outputs": []
    },
    {
      "cell_type": "code",
      "source": [
        "def getPiChart(gotDF,targetCol,labelNames=catagoricals):\n",
        "  df = freqCounter(gotDF, targetCol)\n",
        "  label = df[df.columns[0]]\n",
        "  counts = df[df.columns[1]]\n",
        "  # Creating plot\n",
        "  fig = plt.figure(figsize =(10, 7))\n",
        "  plt.pie(counts, labels = label)\n",
        "  # show plot\n",
        "  print(\"Plot for '{}':\\n{}\\n\".format(labelNames[targetCol],'-'*15))\n",
        "  plt.show()\n",
        "  return"
      ],
      "metadata": {
        "id": "u4lctuwsCWpv"
      },
      "execution_count": 12,
      "outputs": []
    },
    {
      "cell_type": "code",
      "source": [
        "def getBarPlot(gotDF,targetCol,labelNames=catagoricals,w=25,h=10,color='g'):\n",
        "  # getting bulk data\n",
        "  plotDF = freqCounter(gotDF, targetCol)\n",
        "  gotDict = pd.Series(plotDF[plotDF.columns[1]].values,index=plotDF[targetCol]).to_dict()\n",
        "  # bar-plot prep\n",
        "  f = plt.figure()\n",
        "  f.set_figwidth(w)\n",
        "  f.set_figheight(h)\n",
        "  plt.xticks(rotation='vertical')\n",
        "  plt.bar(list(gotDict.keys()), gotDict.values(), color=color)\n",
        "  # show plot\n",
        "  plt.xlabel(labelNames[targetCol])\n",
        "  plt.ylabel('Publication / Article Count')\n",
        "  plt.show()\n",
        "  return"
      ],
      "metadata": {
        "id": "RO2_TH4qI81J"
      },
      "execution_count": 13,
      "outputs": []
    },
    {
      "cell_type": "markdown",
      "source": [
        "#### Applied"
      ],
      "metadata": {
        "id": "OAK-T-A7QmYo"
      }
    },
    {
      "cell_type": "code",
      "source": [
        "for col in ['sub_type', 'type']:\n",
        "  getPiChart(doiArtDF,col)"
      ],
      "metadata": {
        "colab": {
          "base_uri": "https://localhost:8080/",
          "height": 909
        },
        "id": "b81NoI-uKzxC",
        "outputId": "fde822cf-7d3a-4d4d-9ef9-a98a052a15f8"
      },
      "execution_count": 14,
      "outputs": [
        {
          "output_type": "stream",
          "name": "stdout",
          "text": [
            "Plot for 'Submission Type':\n",
            "---------------\n",
            "\n"
          ]
        },
        {
          "output_type": "display_data",
          "data": {
            "text/plain": [
              "<Figure size 720x504 with 1 Axes>"
            ],
            "image/png": "[encoded data removed]"
          },
          "metadata": {}
        },
        {
          "output_type": "stream",
          "name": "stdout",
          "text": [
            "Plot for 'Publication Type':\n",
            "---------------\n",
            "\n"
          ]
        },
        {
          "output_type": "display_data",
          "data": {
            "text/plain": [
              "<Figure size 720x504 with 1 Axes>"
            ],
            "image/png": "[encoded data removed]"
          },
          "metadata": {}
        }
      ]
    },
    {
      "cell_type": "code",
      "source": [
        "getBarPlot(doiArtDF,'country')"
      ],
      "metadata": {
        "colab": {
          "base_uri": "https://localhost:8080/",
          "height": 674
        },
        "id": "a-h_RTBoHRnp",
        "outputId": "d5868347-932f-4c34-e137-3ef307e61dc9"
      },
      "execution_count": 15,
      "outputs": [
        {
          "output_type": "display_data",
          "data": {
            "text/plain": [
              "<Figure size 1800x720 with 1 Axes>"
            ],
            "image/png": "[encoded data removed]"
          },
          "metadata": {
            "needs_background": "light"
          }
        }
      ]
    },
    {
      "cell_type": "markdown",
      "source": [
        "---"
      ],
      "metadata": {
        "id": "_Z-VrdBsVaDu"
      }
    }
  ]
}